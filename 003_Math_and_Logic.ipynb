{
  "nbformat": 4,
  "nbformat_minor": 0,
  "metadata": {
    "colab": {
      "name": "003 Math and Logic.ipynb",
      "provenance": [],
      "authorship_tag": "ABX9TyNY8WcqyXlu5V4EoCHJYxJX",
      "include_colab_link": true
    },
    "kernelspec": {
      "name": "python3",
      "display_name": "Python 3"
    },
    "language_info": {
      "name": "python"
    }
  },
  "cells": [
    {
      "cell_type": "markdown",
      "metadata": {
        "id": "view-in-github",
        "colab_type": "text"
      },
      "source": [
        "<a href=\"https://colab.research.google.com/github/a-forty-two/DFEData2/blob/main/003_Math_and_Logic.ipynb\" target=\"_parent\"><img src=\"https://colab.research.google.com/assets/colab-badge.svg\" alt=\"Open In Colab\"/></a>"
      ]
    },
    {
      "cell_type": "code",
      "metadata": {
        "id": "BvNaHDuK7hf1"
      },
      "source": [
        "# Permutation and Combination \n",
        "# Factorial\n",
        "# N! = 5! = 5X4X3X2X1 \n",
        "# 0! = 1\n",
        "# 1! = 1\n",
        "# 2! = 2X1 = 2\n",
        "# 3! = 3X2X1 = 6...\n",
        "\n",
        "\n"
      ],
      "execution_count": 1,
      "outputs": []
    },
    {
      "cell_type": "code",
      "metadata": {
        "id": "gdtZpYbD8zcv"
      },
      "source": [
        "# writing a program to calculate factorial of a number N input by the user"
      ],
      "execution_count": 2,
      "outputs": []
    },
    {
      "cell_type": "code",
      "metadata": {
        "colab": {
          "base_uri": "https://localhost:8080/"
        },
        "id": "IPW7myl183rA",
        "outputId": "2f386bde-07d4-4a39-e0a8-e13251ec5f8c"
      },
      "source": [
        "n = int(input(\"Enter a number to calculate factorial \"))\n",
        "# write your program here\n",
        "\n",
        "# Negative nos. not defined\n",
        "if(n<0):\n",
        "  print('Not defined for negative')\n",
        "if(n==0):\n",
        "  print(\"0's factorial is 1\")\n",
        "if(n>0):\n",
        "  fact = 1\n",
        "  for i in range(1,n+1):\n",
        "    fact = fact * i\n",
        "  print('factorial = ' + str(fact))\n",
        "  "
      ],
      "execution_count": 3,
      "outputs": [
        {
          "output_type": "stream",
          "name": "stdout",
          "text": [
            "Enter a number to calculate factorial 3\n",
            "factorial = 6\n"
          ]
        }
      ]
    },
    {
      "cell_type": "code",
      "metadata": {
        "colab": {
          "base_uri": "https://localhost:8080/"
        },
        "id": "B0iiOb0kC80l",
        "outputId": "734cbbfa-586d-496e-a7fd-0623eaeb43a5"
      },
      "source": [
        "# Combination \n",
        "\n",
        "# combination to find all 3 digit numbers\n",
        "\n",
        "# logic-> 9 options for 1st digit [1-9] X 10 options [0-9] X 10 options [0-9]\n",
        "\n",
        "all_3_digits = 9 * 10 * 10\n",
        "all_3_digits\n"
      ],
      "execution_count": 6,
      "outputs": [
        {
          "output_type": "execute_result",
          "data": {
            "text/plain": [
              "900"
            ]
          },
          "metadata": {},
          "execution_count": 6
        }
      ]
    },
    {
      "cell_type": "code",
      "metadata": {
        "colab": {
          "base_uri": "https://localhost:8080/"
        },
        "id": "45rPC_Y6HMbR",
        "outputId": "9e7aca35-00bc-404b-e506-6135382d3441"
      },
      "source": [
        "# Problem statement-> convert this into a program to find \n",
        "# ALL 3 digit EVEN numbers only! \n",
        "\n",
        "# even-> last_digit= [0,2,4,6,8] \n",
        "\n",
        "all_3_digit_evens = 9 * 10 * 5 \n",
        "all_3_digit_evens"
      ],
      "execution_count": 9,
      "outputs": [
        {
          "output_type": "execute_result",
          "data": {
            "text/plain": [
              "450"
            ]
          },
          "metadata": {},
          "execution_count": 9
        }
      ]
    },
    {
      "cell_type": "code",
      "metadata": {
        "id": "vB7yYMl3IfkE"
      },
      "source": [
        "# Count all numbers following this rule set\n",
        "# 1: number should always be divisible by 5\n",
        "# 2: number can start only from an even number\n",
        "# 3: number can be between 0 to 10,000 only \n",
        "\n"
      ],
      "execution_count": 10,
      "outputs": []
    },
    {
      "cell_type": "code",
      "metadata": {
        "id": "unOnkI_hJNNj"
      },
      "source": [
        ""
      ],
      "execution_count": null,
      "outputs": []
    }
  ]
}