{
  "nbformat": 4,
  "nbformat_minor": 0,
  "metadata": {
    "colab": {
      "name": "003 Math and Logic.ipynb",
      "provenance": [],
      "authorship_tag": "ABX9TyNyAQLKCrDx8lP/uaQ2xE6P",
      "include_colab_link": true
    },
    "kernelspec": {
      "name": "python3",
      "display_name": "Python 3"
    },
    "language_info": {
      "name": "python"
    }
  },
  "cells": [
    {
      "cell_type": "markdown",
      "metadata": {
        "id": "view-in-github",
        "colab_type": "text"
      },
      "source": [
        "<a href=\"https://colab.research.google.com/github/a-forty-two/DFEData2/blob/main/003_Math_and_Logic.ipynb\" target=\"_parent\"><img src=\"https://colab.research.google.com/assets/colab-badge.svg\" alt=\"Open In Colab\"/></a>"
      ]
    },
    {
      "cell_type": "code",
      "metadata": {
        "id": "BvNaHDuK7hf1"
      },
      "source": [
        "# Permutation and Combination \n",
        "# Factorial\n",
        "# N! = 5! = 5X4X3X2X1 \n",
        "# 0! = 1\n",
        "# 1! = 1\n",
        "# 2! = 2X1 = 2\n",
        "# 3! = 3X2X1 = 6...\n",
        "\n",
        "\n"
      ],
      "execution_count": 1,
      "outputs": []
    },
    {
      "cell_type": "code",
      "metadata": {
        "id": "gdtZpYbD8zcv"
      },
      "source": [
        "# writing a program to calculate factorial of a number N input by the user"
      ],
      "execution_count": 2,
      "outputs": []
    },
    {
      "cell_type": "code",
      "metadata": {
        "colab": {
          "base_uri": "https://localhost:8080/"
        },
        "id": "IPW7myl183rA",
        "outputId": "2f386bde-07d4-4a39-e0a8-e13251ec5f8c"
      },
      "source": [
        "n = int(input(\"Enter a number to calculate factorial \"))\n",
        "# write your program here\n",
        "\n",
        "# Negative nos. not defined\n",
        "if(n<0):\n",
        "  print('Not defined for negative')\n",
        "if(n==0):\n",
        "  print(\"0's factorial is 1\")\n",
        "if(n>0):\n",
        "  fact = 1\n",
        "  for i in range(1,n+1):\n",
        "    fact = fact * i\n",
        "  print('factorial = ' + str(fact))\n",
        "  "
      ],
      "execution_count": 3,
      "outputs": [
        {
          "output_type": "stream",
          "name": "stdout",
          "text": [
            "Enter a number to calculate factorial 3\n",
            "factorial = 6\n"
          ]
        }
      ]
    },
    {
      "cell_type": "code",
      "metadata": {
        "id": "B0iiOb0kC80l"
      },
      "source": [
        ""
      ],
      "execution_count": null,
      "outputs": []
    }
  ]
}