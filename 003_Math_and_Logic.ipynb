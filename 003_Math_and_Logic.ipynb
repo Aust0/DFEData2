{
  "nbformat": 4,
  "nbformat_minor": 0,
  "metadata": {
    "colab": {
      "name": "003 Math and Logic.ipynb",
      "provenance": [],
      "authorship_tag": "ABX9TyMjyGXqH9ikWZp70VfHbAJB",
      "include_colab_link": true
    },
    "kernelspec": {
      "name": "python3",
      "display_name": "Python 3"
    },
    "language_info": {
      "name": "python"
    }
  },
  "cells": [
    {
      "cell_type": "markdown",
      "metadata": {
        "id": "view-in-github",
        "colab_type": "text"
      },
      "source": [
        "<a href=\"https://colab.research.google.com/github/a-forty-two/DFEData2/blob/main/003_Math_and_Logic.ipynb\" target=\"_parent\"><img src=\"https://colab.research.google.com/assets/colab-badge.svg\" alt=\"Open In Colab\"/></a>"
      ]
    },
    {
      "cell_type": "code",
      "metadata": {
        "id": "BvNaHDuK7hf1"
      },
      "source": [
        "# Permutation and Combination \n",
        "# Factorial\n",
        "# N! = 5! = 5X4X3X2X1 \n",
        "# 0! = 1\n",
        "# 1! = 1\n",
        "# 2! = 2X1 = 2\n",
        "# 3! = 3X2X1 = 6...\n",
        "\n",
        "\n"
      ],
      "execution_count": 1,
      "outputs": []
    },
    {
      "cell_type": "code",
      "metadata": {
        "id": "gdtZpYbD8zcv"
      },
      "source": [
        "# writing a program to calculate factorial of a number N input by the user"
      ],
      "execution_count": 2,
      "outputs": []
    },
    {
      "cell_type": "code",
      "metadata": {
        "id": "IPW7myl183rA"
      },
      "source": [
        "n = int(input(\"Enter a number to calculate factorial \"))\n",
        "# write your prgram heres"
      ],
      "execution_count": null,
      "outputs": []
    }
  ]
}