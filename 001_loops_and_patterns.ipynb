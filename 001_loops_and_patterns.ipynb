{
  "nbformat": 4,
  "nbformat_minor": 0,
  "metadata": {
    "colab": {
      "name": "001 loops and patterns.ipynb",
      "provenance": [],
      "authorship_tag": "ABX9TyM2AYAYzJdmE3p9wNmq1Yr4",
      "include_colab_link": true
    },
    "kernelspec": {
      "name": "python3",
      "display_name": "Python 3"
    },
    "language_info": {
      "name": "python"
    }
  },
  "cells": [
    {
      "cell_type": "markdown",
      "metadata": {
        "id": "view-in-github",
        "colab_type": "text"
      },
      "source": [
        "<a href=\"https://colab.research.google.com/github/a-forty-two/DFEData2/blob/main/001_loops_and_patterns.ipynb\" target=\"_parent\"><img src=\"https://colab.research.google.com/assets/colab-badge.svg\" alt=\"Open In Colab\"/></a>"
      ]
    },
    {
      "cell_type": "code",
      "metadata": {
        "colab": {
          "base_uri": "https://localhost:8080/"
        },
        "id": "5yoDYl7q-PVh",
        "outputId": "683fdb52-fc4e-4d21-8293-1d9d950af677"
      },
      "source": [
        "# to print first 10 numbers\n",
        "# range-> generate values in steps\n",
        "range(10)"
      ],
      "execution_count": 1,
      "outputs": [
        {
          "output_type": "execute_result",
          "data": {
            "text/plain": [
              "range(0, 10)"
            ]
          },
          "metadata": {},
          "execution_count": 1
        }
      ]
    },
    {
      "cell_type": "code",
      "metadata": {
        "colab": {
          "base_uri": "https://localhost:8080/"
        },
        "id": "NZcmXDzH-yaE",
        "outputId": "fcea541a-f75d-4b3a-a441-f60ce423bcdc"
      },
      "source": [
        "# a very simple square series\n",
        "for n in range(10):\n",
        "  print(n**2)"
      ],
      "execution_count": 3,
      "outputs": [
        {
          "output_type": "stream",
          "name": "stdout",
          "text": [
            "0\n",
            "1\n",
            "4\n",
            "9\n",
            "16\n",
            "25\n",
            "36\n",
            "49\n",
            "64\n",
            "81\n"
          ]
        }
      ]
    },
    {
      "cell_type": "code",
      "metadata": {
        "colab": {
          "base_uri": "https://localhost:8080/"
        },
        "id": "PHJjmcuw-9NA",
        "outputId": "43af3699-8d61-47ee-ced8-cc032ebd48fb"
      },
      "source": [
        "# simple pattern\n",
        "for n in range(10):\n",
        "  for m in range(n):\n",
        "    print(m, end=' ')\n",
        "  print('\\n')\n"
      ],
      "execution_count": 6,
      "outputs": [
        {
          "output_type": "stream",
          "name": "stdout",
          "text": [
            "\n",
            "\n",
            "0 \n",
            "\n",
            "0 1 \n",
            "\n",
            "0 1 2 \n",
            "\n",
            "0 1 2 3 \n",
            "\n",
            "0 1 2 3 4 \n",
            "\n",
            "0 1 2 3 4 5 \n",
            "\n",
            "0 1 2 3 4 5 6 \n",
            "\n",
            "0 1 2 3 4 5 6 7 \n",
            "\n",
            "0 1 2 3 4 5 6 7 8 \n",
            "\n"
          ]
        }
      ]
    },
    {
      "cell_type": "code",
      "metadata": {
        "id": "17o0yzYF_oxJ"
      },
      "source": [
        "# PROBLEM STATEMENT:\n",
        "# print the pattern in opposite\n",
        "# 0 1 2 3 4 5 6 7 8 \n",
        "# 0 1 2 3 4 5 6 7 \n",
        "# 0 1 2 3 4 5 6 \n",
        "# ....\n",
        "# 0 1 2\n",
        "# 0 1 \n",
        "# 0"
      ],
      "execution_count": null,
      "outputs": []
    }
  ]
}