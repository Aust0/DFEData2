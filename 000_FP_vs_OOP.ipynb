{
  "nbformat": 4,
  "nbformat_minor": 0,
  "metadata": {
    "colab": {
      "name": "000 FP vs OOP.ipynb",
      "provenance": [],
      "collapsed_sections": [],
      "authorship_tag": "ABX9TyMzyv1aNVCTvNsIwYW/FR1Q",
      "include_colab_link": true
    },
    "kernelspec": {
      "name": "python3",
      "display_name": "Python 3"
    },
    "language_info": {
      "name": "python"
    }
  },
  "cells": [
    {
      "cell_type": "markdown",
      "metadata": {
        "id": "view-in-github",
        "colab_type": "text"
      },
      "source": [
        "<a href=\"https://colab.research.google.com/github/a-forty-two/DFEData2/blob/main/000_FP_vs_OOP.ipynb\" target=\"_parent\"><img src=\"https://colab.research.google.com/assets/colab-badge.svg\" alt=\"Open In Colab\"/></a>"
      ]
    },
    {
      "cell_type": "code",
      "metadata": {
        "id": "QWUq6xxbNIom"
      },
      "source": [
        "# FP\n",
        "# we dont know what these numbers would be\n",
        "def sum(a,b):\n",
        "  result = a + b \n",
        "  return result \n",
        "# Shopkeeper relationship-> you take money, you give goods\n",
        "# function is a shopkeeper-> function(money) returns goods\n"
      ],
      "execution_count": 7,
      "outputs": []
    },
    {
      "cell_type": "code",
      "metadata": {
        "colab": {
          "base_uri": "https://localhost:8080/"
        },
        "id": "tc1YGesXPrS1",
        "outputId": "8a22126f-22b8-4a69-be33-7f21eaad085b"
      },
      "source": [
        "a = int(input('enter a number'))\n",
        "b = int(input('enter another number'))\n",
        "result = sum(a,b)\n",
        "print(result)\n",
        "\n",
        "\n",
        "# CONCATENATION!"
      ],
      "execution_count": 8,
      "outputs": [
        {
          "output_type": "stream",
          "name": "stdout",
          "text": [
            "enter a number10\n",
            "enter another number20\n",
            "30\n"
          ]
        }
      ]
    },
    {
      "cell_type": "code",
      "metadata": {
        "id": "e0pFte5HOk4K"
      },
      "source": [
        "#OOP\n",
        "# CLASS DEFINITION\n",
        "class calculator:\n",
        "  def readNumbers(self):\n",
        "    self.num1 = int(input('enter a number'))\n",
        "    self.num2 = int(input('enter another number'))  \n",
        "  def sum(self):\n",
        "    self.result = self.num1 + self.num2\n",
        "  def printSum(self):\n",
        "    print(\"The sum is \" + str(self.result))\n",
        "  def executeInCorrectSequence(self):\n",
        "    self.readNumbers()\n",
        "    self.sum()\n",
        "    self.printSum()"
      ],
      "execution_count": 9,
      "outputs": []
    },
    {
      "cell_type": "code",
      "metadata": {
        "colab": {
          "base_uri": "https://localhost:8080/"
        },
        "id": "9uA3PqByTp45",
        "outputId": "57abe97f-e0b6-4a79-8a33-7f6c095de581"
      },
      "source": [
        "# OBJECT CREATION-> actually using the class\n",
        "mycalculator = calculator()\n",
        "print(dir(mycalculator))"
      ],
      "execution_count": 11,
      "outputs": [
        {
          "output_type": "stream",
          "name": "stdout",
          "text": [
            "['__class__', '__delattr__', '__dict__', '__dir__', '__doc__', '__eq__', '__format__', '__ge__', '__getattribute__', '__gt__', '__hash__', '__init__', '__init_subclass__', '__le__', '__lt__', '__module__', '__ne__', '__new__', '__reduce__', '__reduce_ex__', '__repr__', '__setattr__', '__sizeof__', '__str__', '__subclasshook__', '__weakref__', 'executeInCorrectSequence', 'printSum', 'readNumbers', 'sum']\n"
          ]
        }
      ]
    },
    {
      "cell_type": "code",
      "metadata": {
        "colab": {
          "base_uri": "https://localhost:8080/"
        },
        "id": "srcohjGaT5cV",
        "outputId": "57a42778-2a1b-406f-a2e5-bfadc1bb6eea"
      },
      "source": [
        "mycalculator.executeInCorrectSequence()"
      ],
      "execution_count": 12,
      "outputs": [
        {
          "output_type": "stream",
          "name": "stdout",
          "text": [
            "enter a number10\n",
            "enter another number20\n",
            "The sum is 30\n"
          ]
        }
      ]
    },
    {
      "cell_type": "code",
      "metadata": {
        "id": "1gAHkOu1UZ2r"
      },
      "source": [
        ""
      ],
      "execution_count": null,
      "outputs": []
    }
  ]
}