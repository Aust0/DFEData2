{
  "nbformat": 4,
  "nbformat_minor": 0,
  "metadata": {
    "kernelspec": {
      "display_name": "Python 3",
      "language": "python",
      "name": "python3"
    },
    "language_info": {
      "codemirror_mode": {
        "name": "ipython",
        "version": 3
      },
      "file_extension": ".py",
      "mimetype": "text/x-python",
      "name": "python",
      "nbconvert_exporter": "python",
      "pygments_lexer": "ipython3",
      "version": "3.7.4"
    },
    "colab": {
      "name": "Choosing the right estimator.ipynb",
      "provenance": [],
      "include_colab_link": true
    }
  },
  "cells": [
    {
      "cell_type": "markdown",
      "metadata": {
        "id": "view-in-github",
        "colab_type": "text"
      },
      "source": [
        "<a href=\"https://colab.research.google.com/github/Aust0/DFEData2/blob/main/Choosing_the_right_estimator.ipynb\" target=\"_parent\"><img src=\"https://colab.research.google.com/assets/colab-badge.svg\" alt=\"Open In Colab\"/></a>"
      ]
    },
    {
      "cell_type": "markdown",
      "metadata": {
        "id": "mrR5VG_FYvUV"
      },
      "source": [
        "# Practical Machine Learning \n",
        "### Project: Model Selection"
      ]
    },
    {
      "cell_type": "markdown",
      "metadata": {
        "id": "pn4e27V-YvUf"
      },
      "source": [
        "# Abstract"
      ]
    },
    {
      "cell_type": "markdown",
      "metadata": {
        "id": "jlgvuCihYvUj"
      },
      "source": [
        "# Part 1: Business and Data Understanding"
      ]
    },
    {
      "cell_type": "markdown",
      "metadata": {
        "id": "F7s0kVTUYvUn"
      },
      "source": [
        "### Q. Define the problem domain"
      ]
    },
    {
      "cell_type": "markdown",
      "metadata": {
        "id": "W-xfJsfV3P0W"
      },
      "source": [
        "1. Always- look at the data\n",
        "      - data.head, tail\n",
        "      - data.describe()\n",
        "      - null value\n",
        "      - reg/classification- value_counts\n",
        "      \n",
        "\n",
        "\n",
        "\n",
        "\n",
        "\n"
      ]
    },
    {
      "cell_type": "code",
      "metadata": {
        "colab": {
          "base_uri": "https://localhost:8080/",
          "height": 537
        },
        "id": "AZadgUjdYvUo",
        "outputId": "0160b51e-3dfe-4b80-cb4e-981b9786f5c5"
      },
      "source": [
        "# azureml-core of version 1.0.72 or higher is required\n",
        "# azureml-dataprep[pandas] of version 1.1.34 or higher is required\n",
        "import pandas as pd\n",
        "data = pd.read_csv('Agora.csv', header=0,encoding='latin1')\n",
        "data.head(10)"
      ],
      "execution_count": null,
      "outputs": [
        {
          "output_type": "execute_result",
          "data": {
            "text/html": [
              "<div>\n",
              "<style scoped>\n",
              "    .dataframe tbody tr th:only-of-type {\n",
              "        vertical-align: middle;\n",
              "    }\n",
              "\n",
              "    .dataframe tbody tr th {\n",
              "        vertical-align: top;\n",
              "    }\n",
              "\n",
              "    .dataframe thead th {\n",
              "        text-align: right;\n",
              "    }\n",
              "</style>\n",
              "<table border=\"1\" class=\"dataframe\">\n",
              "  <thead>\n",
              "    <tr style=\"text-align: right;\">\n",
              "      <th></th>\n",
              "      <th>Vendor</th>\n",
              "      <th>Category</th>\n",
              "      <th>Item</th>\n",
              "      <th>Item Description</th>\n",
              "      <th>Price</th>\n",
              "      <th>Origin</th>\n",
              "      <th>Destination</th>\n",
              "      <th>Rating</th>\n",
              "      <th>Remarks</th>\n",
              "    </tr>\n",
              "  </thead>\n",
              "  <tbody>\n",
              "    <tr>\n",
              "      <th>0</th>\n",
              "      <td>CheapPayTV</td>\n",
              "      <td>Services/Hacking</td>\n",
              "      <td>12 Month HuluPlus gift Code</td>\n",
              "      <td>12-Month HuluPlus Codes for $25. They are wort...</td>\n",
              "      <td>0.05027025666666667 BTC</td>\n",
              "      <td>Torland</td>\n",
              "      <td>NaN</td>\n",
              "      <td>4.96/5</td>\n",
              "      <td>NaN</td>\n",
              "    </tr>\n",
              "    <tr>\n",
              "      <th>1</th>\n",
              "      <td>CheapPayTV</td>\n",
              "      <td>Services/Hacking</td>\n",
              "      <td>Pay TV Sky UK  Sky Germany HD TV  and much mor...</td>\n",
              "      <td>Hi we offer a World Wide CCcam  Service for En...</td>\n",
              "      <td>0.152419585 BTC</td>\n",
              "      <td>Torland</td>\n",
              "      <td>NaN</td>\n",
              "      <td>4.96/5</td>\n",
              "      <td>NaN</td>\n",
              "    </tr>\n",
              "    <tr>\n",
              "      <th>2</th>\n",
              "      <td>KryptykOG</td>\n",
              "      <td>Services/Hacking</td>\n",
              "      <td>OFFICIAL Account Creator Extreme 4.2</td>\n",
              "      <td>Tagged Submission Fix Bebo Submission Fix Adju...</td>\n",
              "      <td>0.007000000000000005 BTC</td>\n",
              "      <td>Torland</td>\n",
              "      <td>NaN</td>\n",
              "      <td>4.93/5</td>\n",
              "      <td>NaN</td>\n",
              "    </tr>\n",
              "    <tr>\n",
              "      <th>3</th>\n",
              "      <td>cyberzen</td>\n",
              "      <td>Services/Hacking</td>\n",
              "      <td>VPN &gt; TOR &gt; SOCK TUTORIAL</td>\n",
              "      <td>How to setup a VPN &gt; TOR &gt; SOCK super safe enc...</td>\n",
              "      <td>0.019016783532494728 BTC</td>\n",
              "      <td>NaN</td>\n",
              "      <td>NaN</td>\n",
              "      <td>4.89/5</td>\n",
              "      <td>NaN</td>\n",
              "    </tr>\n",
              "    <tr>\n",
              "      <th>4</th>\n",
              "      <td>businessdude</td>\n",
              "      <td>Services/Hacking</td>\n",
              "      <td>Facebook hacking guide</td>\n",
              "      <td>.  This guide will teach you how to hack Faceb...</td>\n",
              "      <td>0.062018073963963936 BTC</td>\n",
              "      <td>Torland</td>\n",
              "      <td>NaN</td>\n",
              "      <td>4.88/5</td>\n",
              "      <td>NaN</td>\n",
              "    </tr>\n",
              "    <tr>\n",
              "      <th>5</th>\n",
              "      <td>Hackyboy</td>\n",
              "      <td>Services/Hacking</td>\n",
              "      <td>DDOS ATTACK SERVICE</td>\n",
              "      <td>New service available : Take down all websites...</td>\n",
              "      <td>0.030109432452830192 BTC</td>\n",
              "      <td>Torland</td>\n",
              "      <td>NaN</td>\n",
              "      <td>4.92/5</td>\n",
              "      <td>NaN</td>\n",
              "    </tr>\n",
              "    <tr>\n",
              "      <th>6</th>\n",
              "      <td>businessdude</td>\n",
              "      <td>Services/Hacking</td>\n",
              "      <td>ATM HACKING TUTORIAL</td>\n",
              "      <td>Step by Step guide and Manuals to hack ATMs   ...</td>\n",
              "      <td>0.03317625980769233 BTC</td>\n",
              "      <td>NaN</td>\n",
              "      <td>NaN</td>\n",
              "      <td>4.88/5</td>\n",
              "      <td>NaN</td>\n",
              "    </tr>\n",
              "    <tr>\n",
              "      <th>7</th>\n",
              "      <td>CheapPayTV</td>\n",
              "      <td>Services/Hacking</td>\n",
              "      <td>CALL/SMS verification service!</td>\n",
              "      <td>Need to register an account with sms verificat...</td>\n",
              "      <td>0.012616985714285715 BTC</td>\n",
              "      <td>Torland</td>\n",
              "      <td>NaN</td>\n",
              "      <td>4.96/5</td>\n",
              "      <td>NaN</td>\n",
              "    </tr>\n",
              "    <tr>\n",
              "      <th>8</th>\n",
              "      <td>toysoldiers</td>\n",
              "      <td>Services/Hacking</td>\n",
              "      <td>Mac &amp; windows address changer</td>\n",
              "      <td>- Comes with complete database to randomly cho...</td>\n",
              "      <td>0.009335870999999999 BTC</td>\n",
              "      <td>Torland</td>\n",
              "      <td>NaN</td>\n",
              "      <td>4.94/5</td>\n",
              "      <td>NaN</td>\n",
              "    </tr>\n",
              "    <tr>\n",
              "      <th>9</th>\n",
              "      <td>cyberzen</td>\n",
              "      <td>Services/Hacking</td>\n",
              "      <td>WiFi Hacking</td>\n",
              "      <td>-Hacking WEP/WPA/WPA2  the glory of WPS -Hacki...</td>\n",
              "      <td>0.027091319209809266 BTC</td>\n",
              "      <td>NaN</td>\n",
              "      <td>NaN</td>\n",
              "      <td>4.89/5</td>\n",
              "      <td>NaN</td>\n",
              "    </tr>\n",
              "  </tbody>\n",
              "</table>\n",
              "</div>"
            ],
            "text/plain": [
              "         Vendor          Category  ...  Rating  Remarks\n",
              "0    CheapPayTV  Services/Hacking  ...  4.96/5      NaN\n",
              "1    CheapPayTV  Services/Hacking  ...  4.96/5      NaN\n",
              "2     KryptykOG  Services/Hacking  ...  4.93/5      NaN\n",
              "3      cyberzen  Services/Hacking  ...  4.89/5      NaN\n",
              "4  businessdude  Services/Hacking  ...  4.88/5      NaN\n",
              "5      Hackyboy  Services/Hacking  ...  4.92/5      NaN\n",
              "6  businessdude  Services/Hacking  ...  4.88/5      NaN\n",
              "7    CheapPayTV  Services/Hacking  ...  4.96/5      NaN\n",
              "8   toysoldiers  Services/Hacking  ...  4.94/5      NaN\n",
              "9      cyberzen  Services/Hacking  ...  4.89/5      NaN\n",
              "\n",
              "[10 rows x 9 columns]"
            ]
          },
          "metadata": {},
          "execution_count": 7
        }
      ]
    },
    {
      "cell_type": "code",
      "metadata": {
        "colab": {
          "base_uri": "https://localhost:8080/",
          "height": 276
        },
        "id": "CpggT8B004LC",
        "outputId": "0010db33-609d-487d-888c-2fe8c79ac893"
      },
      "source": [
        "col_names = data.columns\n",
        "updated_names = []\n",
        "for name in col_names:\n",
        "  newname = name.strip()\n",
        "  updated_names.append(newname)\n",
        "\n",
        "data2 = pd.read_csv('Agora.csv', names = updated_names, header=None, encoding='latin1')\n",
        "data2.head()"
      ],
      "execution_count": null,
      "outputs": [
        {
          "output_type": "execute_result",
          "data": {
            "text/html": [
              "<div>\n",
              "<style scoped>\n",
              "    .dataframe tbody tr th:only-of-type {\n",
              "        vertical-align: middle;\n",
              "    }\n",
              "\n",
              "    .dataframe tbody tr th {\n",
              "        vertical-align: top;\n",
              "    }\n",
              "\n",
              "    .dataframe thead th {\n",
              "        text-align: right;\n",
              "    }\n",
              "</style>\n",
              "<table border=\"1\" class=\"dataframe\">\n",
              "  <thead>\n",
              "    <tr style=\"text-align: right;\">\n",
              "      <th></th>\n",
              "      <th>Vendor</th>\n",
              "      <th>Category</th>\n",
              "      <th>Item</th>\n",
              "      <th>Item Description</th>\n",
              "      <th>Price</th>\n",
              "      <th>Origin</th>\n",
              "      <th>Destination</th>\n",
              "      <th>Rating</th>\n",
              "      <th>Remarks</th>\n",
              "    </tr>\n",
              "  </thead>\n",
              "  <tbody>\n",
              "    <tr>\n",
              "      <th>0</th>\n",
              "      <td>Vendor</td>\n",
              "      <td>Category</td>\n",
              "      <td>Item</td>\n",
              "      <td>Item Description</td>\n",
              "      <td>Price</td>\n",
              "      <td>Origin</td>\n",
              "      <td>Destination</td>\n",
              "      <td>Rating</td>\n",
              "      <td>Remarks</td>\n",
              "    </tr>\n",
              "    <tr>\n",
              "      <th>1</th>\n",
              "      <td>CheapPayTV</td>\n",
              "      <td>Services/Hacking</td>\n",
              "      <td>12 Month HuluPlus gift Code</td>\n",
              "      <td>12-Month HuluPlus Codes for $25. They are wort...</td>\n",
              "      <td>0.05027025666666667 BTC</td>\n",
              "      <td>Torland</td>\n",
              "      <td>NaN</td>\n",
              "      <td>4.96/5</td>\n",
              "      <td>NaN</td>\n",
              "    </tr>\n",
              "    <tr>\n",
              "      <th>2</th>\n",
              "      <td>CheapPayTV</td>\n",
              "      <td>Services/Hacking</td>\n",
              "      <td>Pay TV Sky UK  Sky Germany HD TV  and much mor...</td>\n",
              "      <td>Hi we offer a World Wide CCcam  Service for En...</td>\n",
              "      <td>0.152419585 BTC</td>\n",
              "      <td>Torland</td>\n",
              "      <td>NaN</td>\n",
              "      <td>4.96/5</td>\n",
              "      <td>NaN</td>\n",
              "    </tr>\n",
              "    <tr>\n",
              "      <th>3</th>\n",
              "      <td>KryptykOG</td>\n",
              "      <td>Services/Hacking</td>\n",
              "      <td>OFFICIAL Account Creator Extreme 4.2</td>\n",
              "      <td>Tagged Submission Fix Bebo Submission Fix Adju...</td>\n",
              "      <td>0.007000000000000005 BTC</td>\n",
              "      <td>Torland</td>\n",
              "      <td>NaN</td>\n",
              "      <td>4.93/5</td>\n",
              "      <td>NaN</td>\n",
              "    </tr>\n",
              "    <tr>\n",
              "      <th>4</th>\n",
              "      <td>cyberzen</td>\n",
              "      <td>Services/Hacking</td>\n",
              "      <td>VPN &gt; TOR &gt; SOCK TUTORIAL</td>\n",
              "      <td>How to setup a VPN &gt; TOR &gt; SOCK super safe enc...</td>\n",
              "      <td>0.019016783532494728 BTC</td>\n",
              "      <td>NaN</td>\n",
              "      <td>NaN</td>\n",
              "      <td>4.89/5</td>\n",
              "      <td>NaN</td>\n",
              "    </tr>\n",
              "  </tbody>\n",
              "</table>\n",
              "</div>"
            ],
            "text/plain": [
              "       Vendor          Category  ...   Rating   Remarks\n",
              "0      Vendor          Category  ...   Rating   Remarks\n",
              "1  CheapPayTV  Services/Hacking  ...   4.96/5       NaN\n",
              "2  CheapPayTV  Services/Hacking  ...   4.96/5       NaN\n",
              "3   KryptykOG  Services/Hacking  ...   4.93/5       NaN\n",
              "4    cyberzen  Services/Hacking  ...   4.89/5       NaN\n",
              "\n",
              "[5 rows x 9 columns]"
            ]
          },
          "metadata": {},
          "execution_count": 13
        }
      ]
    },
    {
      "cell_type": "code",
      "metadata": {
        "colab": {
          "base_uri": "https://localhost:8080/"
        },
        "id": "mZ5HR1b65zJO",
        "outputId": "1140faf1-ef93-4cd4-bb18-4628ef334465"
      },
      "source": [
        "data2['Category']"
      ],
      "execution_count": null,
      "outputs": [
        {
          "output_type": "execute_result",
          "data": {
            "text/plain": [
              "0                    Category\n",
              "1            Services/Hacking\n",
              "2            Services/Hacking\n",
              "3            Services/Hacking\n",
              "4            Services/Hacking\n",
              "                 ...         \n",
              "109685    Drugs/Opioids/Opium\n",
              "109686      Weapons/Fireworks\n",
              "109687    Drugs/Opioids/Opium\n",
              "109688    Drugs/Opioids/Opium\n",
              "109689    Drugs/Opioids/Opium\n",
              "Name: Category, Length: 109690, dtype: object"
            ]
          },
          "metadata": {},
          "execution_count": 14
        }
      ]
    },
    {
      "cell_type": "code",
      "metadata": {
        "colab": {
          "base_uri": "https://localhost:8080/"
        },
        "id": "Xw9c6Ym5ydBZ",
        "outputId": "d44e003e-eb89-4a53-f91d-62f17b670aad"
      },
      "source": [
        "data2.info()\n",
        "\n",
        "# Bad Model\n",
        "# "
      ],
      "execution_count": null,
      "outputs": [
        {
          "output_type": "stream",
          "name": "stdout",
          "text": [
            "<class 'pandas.core.frame.DataFrame'>\n",
            "RangeIndex: 109690 entries, 0 to 109689\n",
            "Data columns (total 9 columns):\n",
            " #   Column            Non-Null Count   Dtype \n",
            "---  ------            --------------   ----- \n",
            " 0   Vendor            109690 non-null  object\n",
            " 1   Category          109690 non-null  object\n",
            " 2   Item              109688 non-null  object\n",
            " 3   Item Description  109663 non-null  object\n",
            " 4   Price             109685 non-null  object\n",
            " 5   Origin            99808 non-null   object\n",
            " 6   Destination       60529 non-null   object\n",
            " 7   Rating            109675 non-null  object\n",
            " 8   Remarks           12617 non-null   object\n",
            "dtypes: object(9)\n",
            "memory usage: 7.5+ MB\n"
          ]
        }
      ]
    },
    {
      "cell_type": "code",
      "metadata": {
        "colab": {
          "base_uri": "https://localhost:8080/"
        },
        "id": "YAsZ4BjM615w",
        "outputId": "e1ba4047-4710-4ef5-c904-289dfb1b9ad7"
      },
      "source": [
        "for col_name in data2.columns:\n",
        "  print(col_name + \" \" + str(data2[col_name].value_counts()))"
      ],
      "execution_count": null,
      "outputs": [
        {
          "output_type": "stream",
          "name": "stdout",
          "text": [
            "Vendor optiman            881\n",
            "sexyhomer          860\n",
            "mssource           823\n",
            "profesorhouse      804\n",
            "RXChemist          729\n",
            "                  ... \n",
            "Prowler              1\n",
            "TripWithScience      1\n",
            "CardExpertDevBR      1\n",
            "easy2go              1\n",
            "Esthetic             1\n",
            "Name: Vendor, Length: 3193, dtype: int64\n",
            "Category Drugs/Cannabis/Weed                                                         21272\n",
            "Drugs/Ecstasy/Pills                                                          7534\n",
            "Drugs/Ecstasy/MDMA                                                           6116\n",
            "Drugs/Stimulants/Cocaine                                                     6007\n",
            "Drugs/Prescription                                                           5561\n",
            "                                                                            ...  \n",
            "0.12780125125 BTC                                                               1\n",
            "0.1905617980645162 BTC                                                          1\n",
            "the Body Bags  shotty  and Mac make-up To: Kind Hearts and Gentle People        1\n",
            "home of the Body Bags  shotty  and mag  Kind Hearts and Gentle People           1\n",
            "the Body Bags  shotty  and mag To: Kind Hearts and Gentle People                1\n",
            "Name: Category, Length: 110, dtype: int64\n",
            "Item 1g MDMA                                                          18\n",
            "Custom                                                           17\n",
            "custom listing                                                   14\n",
            "custom                                                           14\n",
            "custom order                                                      9\n",
            "                                                                 ..\n",
            "10x yellow Twitter 120mg mdma                                     1\n",
            "Custom 2 x 2050 TESLA PILLS.                                      1\n",
            "Qrazy Train Snap Wax (1 Gram) FE                                  1\n",
            "Custom list for Se........                                        1\n",
            "Xanax 1000 Xanax 2mg bars--Usa & Uk stock---Finalize early---     1\n",
            "Name: Item, Length: 107602, dtype: int64\n",
            "Item Description [----- Terms & Conditions -----]  -YOU MUST READ MY PROFILE PAGE BEFORE ORDERING -CHECK CURRENT LIVE STOCK ON PROFILE PAGE BEFORE ORDERING  -ONCE YOU PLACE AN ORDER YOU ARE AGREEING TO MY TERMS & ...        264\n",
            "This shipment is with tracking number. The shipment must be signed to receive it. In case that the track is stuck I offer 50% reship.                                                                          248\n",
            "Please read my profile before you place an order  thank you! :)                                                                                                                                                196\n",
            "This is Wakeside917 formerly of SR now proud to be a part of the new site. I've kept my pricing and shipping the same as before. The pricing displayed is for high speed direct download links and is s ...    140\n",
            "Absolutely Authentic! Lab-tested 99% purity above! Vendor with reputation. From Lab directly to Customer so as make sure of the product's purity and genuine.   It is requested to supply a phone num ...      139\n",
            "                                                                                                                                                                                                              ... \n",
            "This post is for 28g(1oz) of our highest quality Uncut Crystal Meth/Ice. Our product comes direct from the manufacture and tests at 92% Pure Premium Crystal Meth/Ice Absolute FIRE! For all IV users   ...      1\n",
            "MICHAEL KORS Watches 35 $205  AAA+ quality   enjoy                                                                                                                                                               1\n",
            "50 100mg Incredibles Chocolate Bars  You may mix-and-match any flavors mentioned in other listings.  FE (Finalizing Early) is required.                                                                          1\n",
            "3.5g OG -  Top Shelf A+ buds  The name is OG but its certainly a Sativa... no kush here.  Solid sativa effects and a decent pine taste.  Pretty much all bud  no shake or seeds.  MKX                            1\n",
            "Viagra  viagra viagra viagra viagra viagra viagra viagra viagra viagra viagra viagra viagra viagra viagra viagra viagra viagra viagra viagra viagra viagra viagra viagra viagra viagra viagra viagra  ...        1\n",
            "Name: Item Description, Length: 69527, dtype: int64\n",
            "Price 1.0 BTC                      74\n",
            "0.00340196 BTC               71\n",
            "0.0037791400000000003 BTC    61\n",
            "0.004333504545454547 BTC     49\n",
            "0.003789596666666667 BTC     44\n",
            "                             ..\n",
            "0.07887990 BTC                1\n",
            "0.58740153875 BTC             1\n",
            "0.03666620833333334 BTC       1\n",
            "0.04165104 BTC                1\n",
            "4.681044772857144 BTC         1\n",
            "Name: Price, Length: 102683, dtype: int64\n",
            "Origin USA                                                   33729\n",
            "UK                                                    10336\n",
            "Australia                                              8767\n",
            "Germany                                                7876\n",
            "Netherlands                                            7707\n",
            "                                                      ...  \n",
            "NetherlandsAntilles                                       1\n",
            "USA i just might                                          1\n",
            "EU No USA&AUS                                             1\n",
            "Bulgaria                                                  1\n",
            "<imgclass=\"flag-img\"src=\"/images/flag/w13/AUS.png\"        1\n",
            "Name: Origin, Length: 405, dtype: int64\n",
            "Destination USA                                                     14664\n",
            "Worldwide                                               12200\n",
            "Australia                                                3698\n",
            "WORLDWIDE                                                2816\n",
            "worldwide                                                2197\n",
            "                                                        ...  \n",
            "internet message                                            1\n",
            "of Captivity To: \"Dabbers\"                                  1\n",
            "Australia Wide                                              1\n",
            "EURO - UK 3-5 DAYS                                          1\n",
            "Worldwide Except for U.S.A.  Israel  and Netherlands        1\n",
            "Name: Destination, Length: 1197, dtype: int64\n",
            "Rating 5.00/5       19637\n",
            "~5/5         14308\n",
            "[0 deals]     7165\n",
            "4.97/5        4432\n",
            "4.98/5        3469\n",
            "             ...  \n",
            "4.702/5          1\n",
            "4.797/5          1\n",
            "3.21/5           1\n",
            "4.736/5          1\n",
            "4.711/5          1\n",
            "Name: Rating, Length: 479, dtype: int64\n",
            "Remarks Average price may be skewed outliar > .5 BTC found    12612\n",
            "4.41/5                                                    1\n",
            "4.90/5                                                    1\n",
            "[0 deals]                                                 1\n",
            " Remarks                                                  1\n",
            "4.91/5                                                    1\n",
            "Name: Remarks, dtype: int64\n"
          ]
        }
      ]
    },
    {
      "cell_type": "code",
      "metadata": {
        "colab": {
          "base_uri": "https://localhost:8080/"
        },
        "id": "DRE9CJgT_H5m",
        "outputId": "3b14c286-9810-4045-85ac-bc6b96d59567"
      },
      "source": [
        "mdma = data2[data2.Category=='Drugs/Ecstasy/MDMA'].head()\n",
        "mdma.info()"
      ],
      "execution_count": null,
      "outputs": [
        {
          "output_type": "stream",
          "name": "stdout",
          "text": [
            "<class 'pandas.core.frame.DataFrame'>\n",
            "Int64Index: 5 entries, 16510 to 16514\n",
            "Data columns (total 9 columns):\n",
            " #   Column            Non-Null Count  Dtype \n",
            "---  ------            --------------  ----- \n",
            " 0   Vendor            5 non-null      object\n",
            " 1   Category          5 non-null      object\n",
            " 2   Item              5 non-null      object\n",
            " 3   Item Description  5 non-null      object\n",
            " 4   Price             5 non-null      object\n",
            " 5   Origin            5 non-null      object\n",
            " 6   Destination       4 non-null      object\n",
            " 7   Rating            5 non-null      object\n",
            " 8   Remarks           2 non-null      object\n",
            "dtypes: object(9)\n",
            "memory usage: 400.0+ bytes\n"
          ]
        }
      ]
    },
    {
      "cell_type": "code",
      "metadata": {
        "colab": {
          "base_uri": "https://localhost:8080/",
          "height": 210
        },
        "id": "zAo_eO8NK8ll",
        "outputId": "fb08c4d9-2338-4e6c-bad1-0fa328865bf2"
      },
      "source": [
        "mdma.describe()"
      ],
      "execution_count": null,
      "outputs": [
        {
          "output_type": "execute_result",
          "data": {
            "text/html": [
              "<div>\n",
              "<style scoped>\n",
              "    .dataframe tbody tr th:only-of-type {\n",
              "        vertical-align: middle;\n",
              "    }\n",
              "\n",
              "    .dataframe tbody tr th {\n",
              "        vertical-align: top;\n",
              "    }\n",
              "\n",
              "    .dataframe thead th {\n",
              "        text-align: right;\n",
              "    }\n",
              "</style>\n",
              "<table border=\"1\" class=\"dataframe\">\n",
              "  <thead>\n",
              "    <tr style=\"text-align: right;\">\n",
              "      <th></th>\n",
              "      <th>Vendor</th>\n",
              "      <th>Category</th>\n",
              "      <th>Item</th>\n",
              "      <th>Item Description</th>\n",
              "      <th>Price</th>\n",
              "      <th>Origin</th>\n",
              "      <th>Destination</th>\n",
              "      <th>Rating</th>\n",
              "      <th>Remarks</th>\n",
              "    </tr>\n",
              "  </thead>\n",
              "  <tbody>\n",
              "    <tr>\n",
              "      <th>count</th>\n",
              "      <td>5</td>\n",
              "      <td>5</td>\n",
              "      <td>5</td>\n",
              "      <td>5</td>\n",
              "      <td>5</td>\n",
              "      <td>5</td>\n",
              "      <td>4</td>\n",
              "      <td>5</td>\n",
              "      <td>2</td>\n",
              "    </tr>\n",
              "    <tr>\n",
              "      <th>unique</th>\n",
              "      <td>5</td>\n",
              "      <td>1</td>\n",
              "      <td>5</td>\n",
              "      <td>5</td>\n",
              "      <td>5</td>\n",
              "      <td>4</td>\n",
              "      <td>4</td>\n",
              "      <td>2</td>\n",
              "      <td>1</td>\n",
              "    </tr>\n",
              "    <tr>\n",
              "      <th>top</th>\n",
              "      <td>NewTime</td>\n",
              "      <td>Drugs/Ecstasy/MDMA</td>\n",
              "      <td>1 g's White MDMA 84% [Free shipping]</td>\n",
              "      <td>MDMA Powder 89% pure! A lot better stuff than ...</td>\n",
              "      <td>1.7276139649999998 BTC</td>\n",
              "      <td>Netherlands</td>\n",
              "      <td>Wordwide except: Australia  USA  Scandinavia a...</td>\n",
              "      <td>5.0/5</td>\n",
              "      <td>Average price may be skewed outliar &gt; .5 BTC f...</td>\n",
              "    </tr>\n",
              "    <tr>\n",
              "      <th>freq</th>\n",
              "      <td>1</td>\n",
              "      <td>5</td>\n",
              "      <td>1</td>\n",
              "      <td>1</td>\n",
              "      <td>1</td>\n",
              "      <td>2</td>\n",
              "      <td>1</td>\n",
              "      <td>4</td>\n",
              "      <td>2</td>\n",
              "    </tr>\n",
              "  </tbody>\n",
              "</table>\n",
              "</div>"
            ],
            "text/plain": [
              "         Vendor  ...                                            Remarks\n",
              "count         5  ...                                                  2\n",
              "unique        5  ...                                                  1\n",
              "top     NewTime  ...  Average price may be skewed outliar > .5 BTC f...\n",
              "freq          1  ...                                                  2\n",
              "\n",
              "[4 rows x 9 columns]"
            ]
          },
          "metadata": {},
          "execution_count": 22
        }
      ]
    },
    {
      "cell_type": "code",
      "metadata": {
        "colab": {
          "base_uri": "https://localhost:8080/"
        },
        "id": "LC9sW3mGLCi6",
        "outputId": "d45d6f48-590e-4786-b150-ee65bb61bc68"
      },
      "source": [
        "for col_name in mdma.columns:\n",
        "  print(col_name + \" \" + str(data2[col_name].value_counts()))"
      ],
      "execution_count": null,
      "outputs": [
        {
          "output_type": "stream",
          "name": "stdout",
          "text": [
            "Vendor optiman            881\n",
            "sexyhomer          860\n",
            "mssource           823\n",
            "profesorhouse      804\n",
            "RXChemist          729\n",
            "                  ... \n",
            "Prowler              1\n",
            "TripWithScience      1\n",
            "CardExpertDevBR      1\n",
            "easy2go              1\n",
            "Esthetic             1\n",
            "Name: Vendor, Length: 3193, dtype: int64\n",
            "Category Drugs/Cannabis/Weed                                                         21272\n",
            "Drugs/Ecstasy/Pills                                                          7534\n",
            "Drugs/Ecstasy/MDMA                                                           6116\n",
            "Drugs/Stimulants/Cocaine                                                     6007\n",
            "Drugs/Prescription                                                           5561\n",
            "                                                                            ...  \n",
            "0.12780125125 BTC                                                               1\n",
            "0.1905617980645162 BTC                                                          1\n",
            "the Body Bags  shotty  and Mac make-up To: Kind Hearts and Gentle People        1\n",
            "home of the Body Bags  shotty  and mag  Kind Hearts and Gentle People           1\n",
            "the Body Bags  shotty  and mag To: Kind Hearts and Gentle People                1\n",
            "Name: Category, Length: 110, dtype: int64\n",
            "Item 1g MDMA                                                          18\n",
            "Custom                                                           17\n",
            "custom listing                                                   14\n",
            "custom                                                           14\n",
            "custom order                                                      9\n",
            "                                                                 ..\n",
            "10x yellow Twitter 120mg mdma                                     1\n",
            "Custom 2 x 2050 TESLA PILLS.                                      1\n",
            "Qrazy Train Snap Wax (1 Gram) FE                                  1\n",
            "Custom list for Se........                                        1\n",
            "Xanax 1000 Xanax 2mg bars--Usa & Uk stock---Finalize early---     1\n",
            "Name: Item, Length: 107602, dtype: int64\n",
            "Item Description [----- Terms & Conditions -----]  -YOU MUST READ MY PROFILE PAGE BEFORE ORDERING -CHECK CURRENT LIVE STOCK ON PROFILE PAGE BEFORE ORDERING  -ONCE YOU PLACE AN ORDER YOU ARE AGREEING TO MY TERMS & ...        264\n",
            "This shipment is with tracking number. The shipment must be signed to receive it. In case that the track is stuck I offer 50% reship.                                                                          248\n",
            "Please read my profile before you place an order  thank you! :)                                                                                                                                                196\n",
            "This is Wakeside917 formerly of SR now proud to be a part of the new site. I've kept my pricing and shipping the same as before. The pricing displayed is for high speed direct download links and is s ...    140\n",
            "Absolutely Authentic! Lab-tested 99% purity above! Vendor with reputation. From Lab directly to Customer so as make sure of the product's purity and genuine.   It is requested to supply a phone num ...      139\n",
            "                                                                                                                                                                                                              ... \n",
            "This post is for 28g(1oz) of our highest quality Uncut Crystal Meth/Ice. Our product comes direct from the manufacture and tests at 92% Pure Premium Crystal Meth/Ice Absolute FIRE! For all IV users   ...      1\n",
            "MICHAEL KORS Watches 35 $205  AAA+ quality   enjoy                                                                                                                                                               1\n",
            "50 100mg Incredibles Chocolate Bars  You may mix-and-match any flavors mentioned in other listings.  FE (Finalizing Early) is required.                                                                          1\n",
            "3.5g OG -  Top Shelf A+ buds  The name is OG but its certainly a Sativa... no kush here.  Solid sativa effects and a decent pine taste.  Pretty much all bud  no shake or seeds.  MKX                            1\n",
            "Viagra  viagra viagra viagra viagra viagra viagra viagra viagra viagra viagra viagra viagra viagra viagra viagra viagra viagra viagra viagra viagra viagra viagra viagra viagra viagra viagra viagra  ...        1\n",
            "Name: Item Description, Length: 69527, dtype: int64\n",
            "Price 1.0 BTC                      74\n",
            "0.00340196 BTC               71\n",
            "0.0037791400000000003 BTC    61\n",
            "0.004333504545454547 BTC     49\n",
            "0.003789596666666667 BTC     44\n",
            "                             ..\n",
            "0.07887990 BTC                1\n",
            "0.58740153875 BTC             1\n",
            "0.03666620833333334 BTC       1\n",
            "0.04165104 BTC                1\n",
            "4.681044772857144 BTC         1\n",
            "Name: Price, Length: 102683, dtype: int64\n",
            "Origin USA                                                   33729\n",
            "UK                                                    10336\n",
            "Australia                                              8767\n",
            "Germany                                                7876\n",
            "Netherlands                                            7707\n",
            "                                                      ...  \n",
            "NetherlandsAntilles                                       1\n",
            "USA i just might                                          1\n",
            "EU No USA&AUS                                             1\n",
            "Bulgaria                                                  1\n",
            "<imgclass=\"flag-img\"src=\"/images/flag/w13/AUS.png\"        1\n",
            "Name: Origin, Length: 405, dtype: int64\n",
            "Destination USA                                                     14664\n",
            "Worldwide                                               12200\n",
            "Australia                                                3698\n",
            "WORLDWIDE                                                2816\n",
            "worldwide                                                2197\n",
            "                                                        ...  \n",
            "internet message                                            1\n",
            "of Captivity To: \"Dabbers\"                                  1\n",
            "Australia Wide                                              1\n",
            "EURO - UK 3-5 DAYS                                          1\n",
            "Worldwide Except for U.S.A.  Israel  and Netherlands        1\n",
            "Name: Destination, Length: 1197, dtype: int64\n",
            "Rating 5.00/5       19637\n",
            "~5/5         14308\n",
            "[0 deals]     7165\n",
            "4.97/5        4432\n",
            "4.98/5        3469\n",
            "             ...  \n",
            "4.702/5          1\n",
            "4.797/5          1\n",
            "3.21/5           1\n",
            "4.736/5          1\n",
            "4.711/5          1\n",
            "Name: Rating, Length: 479, dtype: int64\n",
            "Remarks Average price may be skewed outliar > .5 BTC found    12612\n",
            "4.41/5                                                    1\n",
            "4.90/5                                                    1\n",
            "[0 deals]                                                 1\n",
            " Remarks                                                  1\n",
            "4.91/5                                                    1\n",
            "Name: Remarks, dtype: int64\n"
          ]
        }
      ]
    },
    {
      "cell_type": "code",
      "metadata": {
        "id": "PGcbaLEIN2aa"
      },
      "source": [
        ""
      ],
      "execution_count": null,
      "outputs": []
    },
    {
      "cell_type": "markdown",
      "metadata": {
        "id": "_gbTHWDDYvUq"
      },
      "source": [
        "### Q. Identify candidate questions for your machine learning project"
      ]
    },
    {
      "cell_type": "code",
      "metadata": {
        "colab": {
          "base_uri": "https://localhost:8080/",
          "height": 675
        },
        "id": "2FlciQUBYvUs",
        "outputId": "47f47c30-1292-46e6-86e3-859a07193c85"
      },
      "source": [
        "# individual logic:    1.7276139649999998 BTC -> split(' ') -> [1.7276139649999998, BTC]\n",
        "# .map (individual logic)\n",
        "\n",
        "mdma['newprice'] = mdma['Price'].map(lambda x: x.split(' ')[0]) \n",
        "mdma.head(10)"
      ],
      "execution_count": null,
      "outputs": [
        {
          "output_type": "execute_result",
          "data": {
            "text/html": [
              "<div>\n",
              "<style scoped>\n",
              "    .dataframe tbody tr th:only-of-type {\n",
              "        vertical-align: middle;\n",
              "    }\n",
              "\n",
              "    .dataframe tbody tr th {\n",
              "        vertical-align: top;\n",
              "    }\n",
              "\n",
              "    .dataframe thead th {\n",
              "        text-align: right;\n",
              "    }\n",
              "</style>\n",
              "<table border=\"1\" class=\"dataframe\">\n",
              "  <thead>\n",
              "    <tr style=\"text-align: right;\">\n",
              "      <th></th>\n",
              "      <th>Vendor</th>\n",
              "      <th>Category</th>\n",
              "      <th>Item</th>\n",
              "      <th>Item Description</th>\n",
              "      <th>Price</th>\n",
              "      <th>Origin</th>\n",
              "      <th>Destination</th>\n",
              "      <th>Rating</th>\n",
              "      <th>Remarks</th>\n",
              "      <th>newprice</th>\n",
              "    </tr>\n",
              "  </thead>\n",
              "  <tbody>\n",
              "    <tr>\n",
              "      <th>16510</th>\n",
              "      <td>House_Lannister</td>\n",
              "      <td>Drugs/Ecstasy/MDMA</td>\n",
              "      <td>10g MDMA 82%+ (US ONLY)</td>\n",
              "      <td>*FE ONLY*  This is for 10g of my Canadian MDMA...</td>\n",
              "      <td>1.7276139649999998 BTC</td>\n",
              "      <td>USA</td>\n",
              "      <td>USA</td>\n",
              "      <td>5.0/5</td>\n",
              "      <td>Average price may be skewed outliar &gt; .5 BTC f...</td>\n",
              "      <td>1.7276139649999998</td>\n",
              "    </tr>\n",
              "    <tr>\n",
              "      <th>16511</th>\n",
              "      <td>Bungee54</td>\n",
              "      <td>Drugs/Ecstasy/MDMA</td>\n",
              "      <td>FE SPECIAL LISTING ** 50g crystal MDMA</td>\n",
              "      <td>FE SPECIAL LISTING ** 50g crystal MDMA   The P...</td>\n",
              "      <td>1.844758304666667 BTC</td>\n",
              "      <td>Belgium</td>\n",
              "      <td>GLOBAL</td>\n",
              "      <td>5.0/5</td>\n",
              "      <td>NaN</td>\n",
              "      <td>1.844758304666667</td>\n",
              "    </tr>\n",
              "    <tr>\n",
              "      <th>16512</th>\n",
              "      <td>TheHeineken</td>\n",
              "      <td>Drugs/Ecstasy/MDMA</td>\n",
              "      <td>1 g's White MDMA 84% [Free shipping]</td>\n",
              "      <td>â¶ A few things to consider before ordering: ...</td>\n",
              "      <td>0.052753256000000005 BTC</td>\n",
              "      <td>USA  Scandinavia and Alaska</td>\n",
              "      <td>Wordwide except: Australia  USA  Scandinavia a...</td>\n",
              "      <td>4.9/5</td>\n",
              "      <td>NaN</td>\n",
              "      <td>0.052753256000000005</td>\n",
              "    </tr>\n",
              "    <tr>\n",
              "      <th>16513</th>\n",
              "      <td>DutchMasters</td>\n",
              "      <td>Drugs/Ecstasy/MDMA</td>\n",
              "      <td>150 gr MDMA 84% Crystals -- Grade A Dutch Quality</td>\n",
              "      <td>We offer the best MDMA available in Holland. T...</td>\n",
              "      <td>5.561239054929577 BTC</td>\n",
              "      <td>Netherlands</td>\n",
              "      <td>Worldwide (except: US/NZ/AU/Scandinavia)</td>\n",
              "      <td>5.0/5</td>\n",
              "      <td>Average price may be skewed outliar &gt; .5 BTC f...</td>\n",
              "      <td>5.561239054929577</td>\n",
              "    </tr>\n",
              "    <tr>\n",
              "      <th>16514</th>\n",
              "      <td>NewTime</td>\n",
              "      <td>Drugs/Ecstasy/MDMA</td>\n",
              "      <td>0 5 gr. MDMA Powder 89% pure</td>\n",
              "      <td>MDMA Powder 89% pure! A lot better stuff than ...</td>\n",
              "      <td>0.044930056 BTC</td>\n",
              "      <td>Netherlands</td>\n",
              "      <td>NaN</td>\n",
              "      <td>5.0/5</td>\n",
              "      <td>NaN</td>\n",
              "      <td>0.044930056</td>\n",
              "    </tr>\n",
              "  </tbody>\n",
              "</table>\n",
              "</div>"
            ],
            "text/plain": [
              "                Vendor  ...              newprice\n",
              "16510  House_Lannister  ...    1.7276139649999998\n",
              "16511         Bungee54  ...     1.844758304666667\n",
              "16512      TheHeineken  ...  0.052753256000000005\n",
              "16513     DutchMasters  ...     5.561239054929577\n",
              "16514          NewTime  ...           0.044930056\n",
              "\n",
              "[5 rows x 10 columns]"
            ]
          },
          "metadata": {},
          "execution_count": 27
        }
      ]
    },
    {
      "cell_type": "code",
      "metadata": {
        "colab": {
          "base_uri": "https://localhost:8080/"
        },
        "id": "LaMcBIt-POyT",
        "outputId": "09b7bcbc-d788-4103-e767-587bf91ac0d8"
      },
      "source": [
        "from sklearn.preprocessing import LabelEncoder\n",
        "encoder = LabelEncoder()\n",
        "encoder.fit(mdma['Origin'].values)\n",
        "encoder.classes_"
      ],
      "execution_count": null,
      "outputs": [
        {
          "output_type": "execute_result",
          "data": {
            "text/plain": [
              "array([' USA  Scandinavia and Alaska', 'Belgium', 'Netherlands', 'USA'],\n",
              "      dtype=object)"
            ]
          },
          "metadata": {},
          "execution_count": 37
        }
      ]
    },
    {
      "cell_type": "code",
      "metadata": {
        "colab": {
          "base_uri": "https://localhost:8080/",
          "height": 695
        },
        "id": "hr-c7A-kQ76D",
        "outputId": "c85a4136-ab18-4a1b-e285-2a6678c648f0"
      },
      "source": [
        "neworigins = encoder.transform(mdma.loc[:,'Origin'])\n",
        "neworigins\n",
        "# individual logic-> input: 'Belgium' , output-> encoder.transform('Belgium')\n",
        "\n",
        "mdma['neworigins'] = mdma['Origin'].map(lambda x: encoder.transform([x])[0])\n",
        "\n",
        "\n",
        "mdma.head()\n"
      ],
      "execution_count": null,
      "outputs": [
        {
          "output_type": "execute_result",
          "data": {
            "text/html": [
              "<div>\n",
              "<style scoped>\n",
              "    .dataframe tbody tr th:only-of-type {\n",
              "        vertical-align: middle;\n",
              "    }\n",
              "\n",
              "    .dataframe tbody tr th {\n",
              "        vertical-align: top;\n",
              "    }\n",
              "\n",
              "    .dataframe thead th {\n",
              "        text-align: right;\n",
              "    }\n",
              "</style>\n",
              "<table border=\"1\" class=\"dataframe\">\n",
              "  <thead>\n",
              "    <tr style=\"text-align: right;\">\n",
              "      <th></th>\n",
              "      <th>Vendor</th>\n",
              "      <th>Category</th>\n",
              "      <th>Item</th>\n",
              "      <th>Item Description</th>\n",
              "      <th>Price</th>\n",
              "      <th>Origin</th>\n",
              "      <th>Destination</th>\n",
              "      <th>Rating</th>\n",
              "      <th>Remarks</th>\n",
              "      <th>newprice</th>\n",
              "      <th>neworigins</th>\n",
              "    </tr>\n",
              "  </thead>\n",
              "  <tbody>\n",
              "    <tr>\n",
              "      <th>16510</th>\n",
              "      <td>House_Lannister</td>\n",
              "      <td>Drugs/Ecstasy/MDMA</td>\n",
              "      <td>10g MDMA 82%+ (US ONLY)</td>\n",
              "      <td>*FE ONLY*  This is for 10g of my Canadian MDMA...</td>\n",
              "      <td>1.7276139649999998 BTC</td>\n",
              "      <td>USA</td>\n",
              "      <td>USA</td>\n",
              "      <td>5.0/5</td>\n",
              "      <td>Average price may be skewed outliar &gt; .5 BTC f...</td>\n",
              "      <td>1.7276139649999998</td>\n",
              "      <td>3</td>\n",
              "    </tr>\n",
              "    <tr>\n",
              "      <th>16511</th>\n",
              "      <td>Bungee54</td>\n",
              "      <td>Drugs/Ecstasy/MDMA</td>\n",
              "      <td>FE SPECIAL LISTING ** 50g crystal MDMA</td>\n",
              "      <td>FE SPECIAL LISTING ** 50g crystal MDMA   The P...</td>\n",
              "      <td>1.844758304666667 BTC</td>\n",
              "      <td>Belgium</td>\n",
              "      <td>GLOBAL</td>\n",
              "      <td>5.0/5</td>\n",
              "      <td>NaN</td>\n",
              "      <td>1.844758304666667</td>\n",
              "      <td>1</td>\n",
              "    </tr>\n",
              "    <tr>\n",
              "      <th>16512</th>\n",
              "      <td>TheHeineken</td>\n",
              "      <td>Drugs/Ecstasy/MDMA</td>\n",
              "      <td>1 g's White MDMA 84% [Free shipping]</td>\n",
              "      <td>â¶ A few things to consider before ordering: ...</td>\n",
              "      <td>0.052753256000000005 BTC</td>\n",
              "      <td>USA  Scandinavia and Alaska</td>\n",
              "      <td>Wordwide except: Australia  USA  Scandinavia a...</td>\n",
              "      <td>4.9/5</td>\n",
              "      <td>NaN</td>\n",
              "      <td>0.052753256000000005</td>\n",
              "      <td>0</td>\n",
              "    </tr>\n",
              "    <tr>\n",
              "      <th>16513</th>\n",
              "      <td>DutchMasters</td>\n",
              "      <td>Drugs/Ecstasy/MDMA</td>\n",
              "      <td>150 gr MDMA 84% Crystals -- Grade A Dutch Quality</td>\n",
              "      <td>We offer the best MDMA available in Holland. T...</td>\n",
              "      <td>5.561239054929577 BTC</td>\n",
              "      <td>Netherlands</td>\n",
              "      <td>Worldwide (except: US/NZ/AU/Scandinavia)</td>\n",
              "      <td>5.0/5</td>\n",
              "      <td>Average price may be skewed outliar &gt; .5 BTC f...</td>\n",
              "      <td>5.561239054929577</td>\n",
              "      <td>2</td>\n",
              "    </tr>\n",
              "    <tr>\n",
              "      <th>16514</th>\n",
              "      <td>NewTime</td>\n",
              "      <td>Drugs/Ecstasy/MDMA</td>\n",
              "      <td>0 5 gr. MDMA Powder 89% pure</td>\n",
              "      <td>MDMA Powder 89% pure! A lot better stuff than ...</td>\n",
              "      <td>0.044930056 BTC</td>\n",
              "      <td>Netherlands</td>\n",
              "      <td>NaN</td>\n",
              "      <td>5.0/5</td>\n",
              "      <td>NaN</td>\n",
              "      <td>0.044930056</td>\n",
              "      <td>2</td>\n",
              "    </tr>\n",
              "  </tbody>\n",
              "</table>\n",
              "</div>"
            ],
            "text/plain": [
              "                Vendor            Category  ...              newprice neworigins\n",
              "16510  House_Lannister  Drugs/Ecstasy/MDMA  ...    1.7276139649999998          3\n",
              "16511         Bungee54  Drugs/Ecstasy/MDMA  ...     1.844758304666667          1\n",
              "16512      TheHeineken  Drugs/Ecstasy/MDMA  ...  0.052753256000000005          0\n",
              "16513     DutchMasters  Drugs/Ecstasy/MDMA  ...     5.561239054929577          2\n",
              "16514          NewTime  Drugs/Ecstasy/MDMA  ...           0.044930056          2\n",
              "\n",
              "[5 rows x 11 columns]"
            ]
          },
          "metadata": {},
          "execution_count": 48
        }
      ]
    },
    {
      "cell_type": "code",
      "metadata": {
        "colab": {
          "base_uri": "https://localhost:8080/",
          "height": 695
        },
        "id": "VtSgnxl0RxYz",
        "outputId": "fbd6ab18-4ea2-4d71-9fcb-6e3ffff527c2"
      },
      "source": [
        "mdma['newratings'] = mdma['Rating'].map(lambda x: x.split('/')[0])\n",
        "\n",
        "mdma.head()"
      ],
      "execution_count": null,
      "outputs": [
        {
          "output_type": "execute_result",
          "data": {
            "text/html": [
              "<div>\n",
              "<style scoped>\n",
              "    .dataframe tbody tr th:only-of-type {\n",
              "        vertical-align: middle;\n",
              "    }\n",
              "\n",
              "    .dataframe tbody tr th {\n",
              "        vertical-align: top;\n",
              "    }\n",
              "\n",
              "    .dataframe thead th {\n",
              "        text-align: right;\n",
              "    }\n",
              "</style>\n",
              "<table border=\"1\" class=\"dataframe\">\n",
              "  <thead>\n",
              "    <tr style=\"text-align: right;\">\n",
              "      <th></th>\n",
              "      <th>Vendor</th>\n",
              "      <th>Category</th>\n",
              "      <th>Item</th>\n",
              "      <th>Item Description</th>\n",
              "      <th>Price</th>\n",
              "      <th>Origin</th>\n",
              "      <th>Destination</th>\n",
              "      <th>Rating</th>\n",
              "      <th>Remarks</th>\n",
              "      <th>newprice</th>\n",
              "      <th>neworigins</th>\n",
              "      <th>newratings</th>\n",
              "    </tr>\n",
              "  </thead>\n",
              "  <tbody>\n",
              "    <tr>\n",
              "      <th>16510</th>\n",
              "      <td>House_Lannister</td>\n",
              "      <td>Drugs/Ecstasy/MDMA</td>\n",
              "      <td>10g MDMA 82%+ (US ONLY)</td>\n",
              "      <td>*FE ONLY*  This is for 10g of my Canadian MDMA...</td>\n",
              "      <td>1.7276139649999998 BTC</td>\n",
              "      <td>USA</td>\n",
              "      <td>USA</td>\n",
              "      <td>5.0/5</td>\n",
              "      <td>Average price may be skewed outliar &gt; .5 BTC f...</td>\n",
              "      <td>1.7276139649999998</td>\n",
              "      <td>3</td>\n",
              "      <td>5.0</td>\n",
              "    </tr>\n",
              "    <tr>\n",
              "      <th>16511</th>\n",
              "      <td>Bungee54</td>\n",
              "      <td>Drugs/Ecstasy/MDMA</td>\n",
              "      <td>FE SPECIAL LISTING ** 50g crystal MDMA</td>\n",
              "      <td>FE SPECIAL LISTING ** 50g crystal MDMA   The P...</td>\n",
              "      <td>1.844758304666667 BTC</td>\n",
              "      <td>Belgium</td>\n",
              "      <td>GLOBAL</td>\n",
              "      <td>5.0/5</td>\n",
              "      <td>NaN</td>\n",
              "      <td>1.844758304666667</td>\n",
              "      <td>1</td>\n",
              "      <td>5.0</td>\n",
              "    </tr>\n",
              "    <tr>\n",
              "      <th>16512</th>\n",
              "      <td>TheHeineken</td>\n",
              "      <td>Drugs/Ecstasy/MDMA</td>\n",
              "      <td>1 g's White MDMA 84% [Free shipping]</td>\n",
              "      <td>â¶ A few things to consider before ordering: ...</td>\n",
              "      <td>0.052753256000000005 BTC</td>\n",
              "      <td>USA  Scandinavia and Alaska</td>\n",
              "      <td>Wordwide except: Australia  USA  Scandinavia a...</td>\n",
              "      <td>4.9/5</td>\n",
              "      <td>NaN</td>\n",
              "      <td>0.052753256000000005</td>\n",
              "      <td>0</td>\n",
              "      <td>4.9</td>\n",
              "    </tr>\n",
              "    <tr>\n",
              "      <th>16513</th>\n",
              "      <td>DutchMasters</td>\n",
              "      <td>Drugs/Ecstasy/MDMA</td>\n",
              "      <td>150 gr MDMA 84% Crystals -- Grade A Dutch Quality</td>\n",
              "      <td>We offer the best MDMA available in Holland. T...</td>\n",
              "      <td>5.561239054929577 BTC</td>\n",
              "      <td>Netherlands</td>\n",
              "      <td>Worldwide (except: US/NZ/AU/Scandinavia)</td>\n",
              "      <td>5.0/5</td>\n",
              "      <td>Average price may be skewed outliar &gt; .5 BTC f...</td>\n",
              "      <td>5.561239054929577</td>\n",
              "      <td>2</td>\n",
              "      <td>5.0</td>\n",
              "    </tr>\n",
              "    <tr>\n",
              "      <th>16514</th>\n",
              "      <td>NewTime</td>\n",
              "      <td>Drugs/Ecstasy/MDMA</td>\n",
              "      <td>0 5 gr. MDMA Powder 89% pure</td>\n",
              "      <td>MDMA Powder 89% pure! A lot better stuff than ...</td>\n",
              "      <td>0.044930056 BTC</td>\n",
              "      <td>Netherlands</td>\n",
              "      <td>NaN</td>\n",
              "      <td>5.0/5</td>\n",
              "      <td>NaN</td>\n",
              "      <td>0.044930056</td>\n",
              "      <td>2</td>\n",
              "      <td>5.0</td>\n",
              "    </tr>\n",
              "  </tbody>\n",
              "</table>\n",
              "</div>"
            ],
            "text/plain": [
              "                Vendor            Category  ... neworigins newratings\n",
              "16510  House_Lannister  Drugs/Ecstasy/MDMA  ...          3        5.0\n",
              "16511         Bungee54  Drugs/Ecstasy/MDMA  ...          1        5.0\n",
              "16512      TheHeineken  Drugs/Ecstasy/MDMA  ...          0        4.9\n",
              "16513     DutchMasters  Drugs/Ecstasy/MDMA  ...          2        5.0\n",
              "16514          NewTime  Drugs/Ecstasy/MDMA  ...          2        5.0\n",
              "\n",
              "[5 rows x 12 columns]"
            ]
          },
          "metadata": {},
          "execution_count": 49
        }
      ]
    },
    {
      "cell_type": "markdown",
      "metadata": {
        "id": "n-4BzWduYvUs"
      },
      "source": [
        "### Q. Identify a suitable dataset for your canditate question(s)"
      ]
    },
    {
      "cell_type": "markdown",
      "metadata": {
        "id": "JqVnt1RSYvUu"
      },
      "source": [
        "Go have a look at any of these websites:\n",
        "\n",
        "* https://www.kaggle.com/datasets \n",
        "* https://datasetsearch.research.google.com/\n",
        "* https://data.gov.uk/\n",
        "\n",
        "Find an interesting looking data set related to your problem domain and get a copy of it\n"
      ]
    },
    {
      "cell_type": "code",
      "metadata": {
        "id": "lGVxn9K2YvUy"
      },
      "source": [
        ""
      ],
      "execution_count": null,
      "outputs": []
    },
    {
      "cell_type": "markdown",
      "metadata": {
        "id": "igCG69nrYvUy"
      },
      "source": [
        "### Q. Generate a descriptive statistics report for the columns in your dataset"
      ]
    },
    {
      "cell_type": "code",
      "metadata": {
        "id": "9bSXxOYGYvUz"
      },
      "source": [
        ""
      ],
      "execution_count": null,
      "outputs": []
    },
    {
      "cell_type": "markdown",
      "metadata": {
        "id": "wslupN9fYvU0"
      },
      "source": [
        "# Part 2: Data Preparation"
      ]
    },
    {
      "cell_type": "markdown",
      "metadata": {
        "id": "9w_MMbksYvU1"
      },
      "source": [
        "### Q. Discuss the following types of missing data and how they would be handled in reference to your dataset where applicable.\n",
        "*\tMissing completely at random (MCAR)\n",
        "*\tMissing at random (MAR)\n",
        "*\tMissing Not at Random (MNAR)"
      ]
    },
    {
      "cell_type": "code",
      "metadata": {
        "id": "1yd2uerrYvU2"
      },
      "source": [
        "# if else \n"
      ],
      "execution_count": null,
      "outputs": []
    },
    {
      "cell_type": "code",
      "metadata": {
        "id": "ZUMqv9ATyL_t"
      },
      "source": [
        ""
      ],
      "execution_count": null,
      "outputs": []
    },
    {
      "cell_type": "markdown",
      "metadata": {
        "id": "QSPXvYN6YvU2"
      },
      "source": [
        "# Part 3: Model Selection"
      ]
    },
    {
      "cell_type": "markdown",
      "metadata": {
        "id": "bjmQXhnlYvU3"
      },
      "source": [
        "### Q. Use the cheat sheet below to choose the algorithm/estimator suitable for building a model to address your candidate question(s)\n",
        "\n",
        "* https://scikit-learn.org/stable/tutorial/machine_learning_map/"
      ]
    },
    {
      "cell_type": "markdown",
      "metadata": {
        "id": "SA__RC52YvU5"
      },
      "source": [
        ""
      ]
    },
    {
      "cell_type": "markdown",
      "metadata": {
        "id": "dK4Y9RDRYvU5"
      },
      "source": [
        "# Part 4: Model Evaluation"
      ]
    },
    {
      "cell_type": "markdown",
      "metadata": {
        "id": "ZgqnaInmYvU5"
      },
      "source": [
        "### Q. Identify which of the statistical measures below are suitable for the evaluation of your model.\n",
        "\n",
        "Classification Metrics:\n",
        "* Accuracy\n",
        "* Precision\n",
        "* Recall\n",
        "* F1 Score\n",
        "\n",
        "Regression Metrics:\n",
        "    \n",
        "* Mean absolute error (MAE)\n",
        "* Root mean squared error (RMSE)\n",
        "* Relative absolute error (RAE)\n",
        "* Relative squared error (RSE)\n",
        "* Mean Zero One Error (MZOE)\n",
        "* Coefficient of determination\n",
        "\n",
        " "
      ]
    },
    {
      "cell_type": "code",
      "metadata": {
        "id": "1EASbH9RYvVH"
      },
      "source": [
        ""
      ],
      "execution_count": null,
      "outputs": []
    },
    {
      "cell_type": "markdown",
      "metadata": {
        "id": "9ynM8c8OYvVH"
      },
      "source": [
        "# Part 5: Stretch - Model Deployment"
      ]
    },
    {
      "cell_type": "markdown",
      "metadata": {
        "id": "vSE9RsqRYvVI"
      },
      "source": [
        "### Q. Evaluate the open-source app framework for Machine Learning model deployment below in your own time.\n",
        "\n",
        "* https://streamlit.io/"
      ]
    },
    {
      "cell_type": "code",
      "metadata": {
        "id": "7qifKi9mYvVK"
      },
      "source": [
        ""
      ],
      "execution_count": null,
      "outputs": []
    }
  ]
}