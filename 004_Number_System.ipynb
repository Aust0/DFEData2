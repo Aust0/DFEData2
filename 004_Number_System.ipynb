{
  "nbformat": 4,
  "nbformat_minor": 0,
  "metadata": {
    "colab": {
      "name": "004 Number System.ipynb",
      "provenance": [],
      "collapsed_sections": [],
      "authorship_tag": "ABX9TyPkc3MoLQmGGK6eGbipjKVN",
      "include_colab_link": true
    },
    "kernelspec": {
      "name": "python3",
      "display_name": "Python 3"
    },
    "language_info": {
      "name": "python"
    }
  },
  "cells": [
    {
      "cell_type": "markdown",
      "metadata": {
        "id": "view-in-github",
        "colab_type": "text"
      },
      "source": [
        "<a href=\"https://colab.research.google.com/github/a-forty-two/DFEData2/blob/main/004_Number_System.ipynb\" target=\"_parent\"><img src=\"https://colab.research.google.com/assets/colab-badge.svg\" alt=\"Open In Colab\"/></a>"
      ]
    },
    {
      "cell_type": "code",
      "metadata": {
        "id": "fPb0tRTUSl-_"
      },
      "source": [
        "# We: Decimal- base 10\n",
        "# Computer: On/Off (True/False) (1/0)- Binary- base 2"
      ],
      "execution_count": 1,
      "outputs": []
    },
    {
      "cell_type": "code",
      "metadata": {
        "id": "GzbAvRMtS6_x"
      },
      "source": [
        "# symbols\n",
        "# 0 1 2 3 4 5 6 7 8 9 A B C D E F G H....\n"
      ],
      "execution_count": 2,
      "outputs": []
    },
    {
      "cell_type": "code",
      "metadata": {
        "id": "4ABOQGVDTQ5-"
      },
      "source": [
        "# Early Man: cattle, plants, belongings-> same count of stones/wood"
      ],
      "execution_count": 3,
      "outputs": []
    },
    {
      "cell_type": "code",
      "metadata": {
        "id": "Rb2QwfaTTX5Q"
      },
      "source": [
        "# 1 hour = 60 mins , 1 min = 60 seconds-> circle -> clock \n",
        "# 360 degrees \n",
        "# Counting on fingers-> 10 base "
      ],
      "execution_count": 4,
      "outputs": []
    },
    {
      "cell_type": "code",
      "metadata": {
        "id": "RIpca7ozT9dk"
      },
      "source": [
        "# 1 digit -> 0 -> 0, 00, 000, 0000...[ 1 ] at digit_count = 0 or 1, total permuations = 1\n",
        "# 2 ditis-> 0 and 1-> 0, 1, 10, 11, 110, 111 -> permuations= inf"
      ],
      "execution_count": 5,
      "outputs": []
    },
    {
      "cell_type": "code",
      "metadata": {
        "id": "vJmPVXgKUatO"
      },
      "source": [
        "# SIZE of INPUT matters "
      ],
      "execution_count": 6,
      "outputs": []
    },
    {
      "cell_type": "code",
      "metadata": {
        "id": "aWFy4Dv0Uc0e"
      },
      "source": [
        "# at least 2 digits-> assumption"
      ],
      "execution_count": 7,
      "outputs": []
    },
    {
      "cell_type": "code",
      "metadata": {
        "id": "VWMAlUfnUiJW"
      },
      "source": [
        "# base 10 system\n",
        "# 3 digit numbers\n",
        "# hundreds tens units\n",
        "# number_system = [0,1,2,3,4,5,6,7,8,9]\n",
        "#    MULTIPLIERS (base^position)\n",
        "#     10^2 10^1 10^0\n",
        "#     100  10   1\n",
        "#\n",
        "#     0    0    0 = 0*100 + 0*10 + 0*1 = 0\n",
        "#     0    0    1 = 0*100 + 0*10 + 1*1 = 1\n",
        "#     ....\n",
        "#     0    0    9 = 0*100 + 0*10 + 9*1 = 9\n",
        "#     0    1    0 = 0*100 + 1*10 + 0*1 = 10\n",
        "#     0    9    9 \n",
        "\n",
        "# 36 = is 36 > 100? if yes, put the number of times it was!\n",
        "# 36 = is 36 > 10? if yes, put the number of times it was!\n",
        "#       => 3 * 10^1 + 6 * 10^0\n",
        "\n",
        "# [0,1]\n",
        "#    = 128 64 32 16 8 4 2 1  (8 bit length)\n",
        "# 36 =  0                   = 36\n",
        "#    =  0   0               = 36\n",
        "#    =  0   0  1            = 36- 32*1 = 4\n",
        "#  4 =  0   0  1  0         =  4\n",
        "#  4 =  0   0  1  0 0       =  4   \n",
        "#  4 =  0   0  1  0 0 1     =  4- 4*1 = 0\n",
        "#  0 =  0   0  1  0 0 1 0 0  \n"
      ],
      "execution_count": 8,
      "outputs": []
    },
    {
      "cell_type": "code",
      "metadata": {
        "id": "NQG8IJU9cgDR"
      },
      "source": [
        ""
      ],
      "execution_count": 16,
      "outputs": []
    },
    {
      "cell_type": "code",
      "metadata": {
        "id": "mxHKaygbVuCH"
      },
      "source": [
        "# base 2 system\n",
        "# 3 digit numbers\n",
        "# hundreds tens units\n",
        "# number_system = [0,1]\n",
        "#    MULTIPLIERS\n",
        "#    2^3 2^2 2^1 2^0\n",
        "#    8  4  2   1\n",
        "#                                   Decimal\n",
        "#       0  0   0 = 4*0 + 2*0 + 1*0 = 0\n",
        "#       0  0   1 = 4*0 + 2*0 + 1*1 = 1\n",
        "#       0  1   0 = 4*0 + 2*1 + 1*0 = 2\n",
        "#     ....\n",
        "#       1  1  1  = 4*1 + 2*1 + 1*1 = 7\n",
        "#    1  0   0 1   = 8*1 + 4*0 + 2*0 + 1*1 = 9\n"
      ],
      "execution_count": 9,
      "outputs": []
    },
    {
      "cell_type": "code",
      "metadata": {
        "id": "gxuRpNkScqiE"
      },
      "source": [
        "# Build a base system for 3 \n",
        "# Multipliers, \n",
        "\n",
        "\n",
        "\n",
        "\n",
        "\n"
      ],
      "execution_count": null,
      "outputs": []
    },
    {
      "cell_type": "code",
      "metadata": {
        "colab": {
          "base_uri": "https://localhost:8080/",
          "height": 36
        },
        "id": "UWzbN-YfXClp",
        "outputId": "9da3bb9d-7bcc-4b1d-e62c-13fdc02dfd89"
      },
      "source": [
        "a = bin(10)\n",
        "a"
      ],
      "execution_count": 12,
      "outputs": [
        {
          "output_type": "execute_result",
          "data": {
            "application/vnd.google.colaboratory.intrinsic+json": {
              "type": "string"
            },
            "text/plain": [
              "'0b1010'"
            ]
          },
          "metadata": {},
          "execution_count": 12
        }
      ]
    },
    {
      "cell_type": "code",
      "metadata": {
        "id": "FoyJCKBZXJw-"
      },
      "source": [
        "# 0b-> binary, 0x-> hexa, 0o -> Octal\n",
        "# 1001 1000 1100 0011\n",
        "# data-> calculated and printed\n",
        "# command-> print on printer \n"
      ],
      "execution_count": null,
      "outputs": []
    },
    {
      "cell_type": "code",
      "metadata": {
        "id": "n8hCzabHYGNy"
      },
      "source": [
        "# convert decimal to binary\n",
        "\n",
        "def dec_2_bin(n):\n",
        "  total_length = 16 \n",
        "  # largest number-> 2^16 - 1 = 65535 \n",
        "  # Data Validation\n",
        "  if n > 65535:\n",
        "    print('Oops! too large for me to calculate. Enter some smaller number next time.')\n",
        "    return \n",
        "  if n < 0:\n",
        "    print('Negative numbers not supported in current version. Update coming soon')\n",
        "    return \n",
        "  copy_n = n\n",
        "  \n",
        "\n",
        "\n",
        "\n",
        "\n",
        "\n",
        "\n"
      ],
      "execution_count": 15,
      "outputs": []
    },
    {
      "cell_type": "code",
      "metadata": {
        "id": "L0qQjyClZGs-"
      },
      "source": [
        "\n",
        "n = int(input(\"Enter a decimal number (be kind and enter a small number please)\"))\n",
        "print(dec_2_bin(n))"
      ],
      "execution_count": null,
      "outputs": []
    },
    {
      "cell_type": "code",
      "metadata": {
        "id": "1x-CjBUUYJf0"
      },
      "source": [
        "# Problem: convert binary to decimal"
      ],
      "execution_count": null,
      "outputs": []
    }
  ]
}