{
  "nbformat": 4,
  "nbformat_minor": 0,
  "metadata": {
    "colab": {
      "name": "02 Lambdas.ipynb",
      "provenance": []
    },
    "kernelspec": {
      "name": "python3",
      "display_name": "Python 3"
    },
    "language_info": {
      "name": "python"
    }
  },
  "cells": [
    {
      "cell_type": "code",
      "metadata": {
        "id": "T7a4oyi1V6Cw"
      },
      "source": [
        "# Lambda or Anonymous function-> does not have a name\n",
        "\n",
        "#FUNCTIONS -> to group a set of instructions that can be executed together \n",
        "\n",
        "# Function-> in your computer's processor and RAM-> we need to mantain-> Stack and Heap\n",
        "\n"
      ],
      "execution_count": 1,
      "outputs": []
    },
    {
      "cell_type": "code",
      "metadata": {
        "id": "7nzvQ-c0sjST"
      },
      "source": [
        "#lambda function\n",
        "\n",
        "# 1 LINE of execution\n",
        "\n",
        "# Syntax: lambda input : what to do with that input \n",
        "\n",
        "example = lambda x : x + 1\n",
        "\n"
      ],
      "execution_count": 2,
      "outputs": []
    },
    {
      "cell_type": "code",
      "metadata": {
        "colab": {
          "base_uri": "https://localhost:8080/"
        },
        "id": "9K2EQIrCs2E3",
        "outputId": "374671a1-5c13-469e-b242-f9583fc06b12"
      },
      "source": [
        "example(1)"
      ],
      "execution_count": 3,
      "outputs": [
        {
          "output_type": "execute_result",
          "data": {
            "text/plain": [
              "2"
            ]
          },
          "metadata": {},
          "execution_count": 3
        }
      ]
    },
    {
      "cell_type": "code",
      "metadata": {
        "id": "y0vc7Og7s35V"
      },
      "source": [
        "# searching / transformation \n",
        "a = [ 'M', 'B', 'M', 'B'] # radius, perim... diag-> M, B\n",
        "# ML-> need to convert this to numbers!-> y = mx + c\n",
        "# any format ---> conv into numbers and then plot on a graph\n",
        "# labels into numbers\n",
        "\n",
        "conv = lambda val : 1 if val=='M' else 0 \n",
        "\n"
      ],
      "execution_count": 4,
      "outputs": []
    },
    {
      "cell_type": "code",
      "metadata": {
        "colab": {
          "base_uri": "https://localhost:8080/"
        },
        "id": "Zp2FCGcavzin",
        "outputId": "2105cb38-e29d-4a5e-9e77-1cb3ee4553ec"
      },
      "source": [
        "a = [ 'M', 'B', 'M', 'B']\n",
        "b = []\n",
        "for i in a:\n",
        "  b.append(conv(i))\n",
        "print(b)"
      ],
      "execution_count": 8,
      "outputs": [
        {
          "output_type": "stream",
          "name": "stdout",
          "text": [
            "[1, 0, 1, 0]\n"
          ]
        }
      ]
    },
    {
      "cell_type": "code",
      "metadata": {
        "colab": {
          "base_uri": "https://localhost:8080/"
        },
        "id": "2kMiYzqcx5wn",
        "outputId": "04c29659-e112-47e6-938c-87583fdeb3de"
      },
      "source": [
        "a = [ 'M', 'B', 'M', 'B']\n",
        "b = [ conv(i) for i in a]\n",
        "print(b)"
      ],
      "execution_count": 11,
      "outputs": [
        {
          "output_type": "stream",
          "name": "stdout",
          "text": [
            "[1, 0, 1, 0]\n"
          ]
        }
      ]
    },
    {
      "cell_type": "code",
      "metadata": {
        "id": "JjRIhajtwzEI"
      },
      "source": [
        "# syntax ->   [ <what to do on each element> for loop on list  ]\n",
        "randomlist = [ i+1 for i in [2,4,6,8,16]]"
      ],
      "execution_count": 9,
      "outputs": []
    },
    {
      "cell_type": "code",
      "metadata": {
        "colab": {
          "base_uri": "https://localhost:8080/"
        },
        "id": "td9nlvRzxvkv",
        "outputId": "72d0736a-c1cc-4f3e-b9ff-de208b050751"
      },
      "source": [
        "randomlist"
      ],
      "execution_count": 10,
      "outputs": [
        {
          "output_type": "execute_result",
          "data": {
            "text/plain": [
              "[3, 5, 7, 9, 17]"
            ]
          },
          "metadata": {},
          "execution_count": 10
        }
      ]
    },
    {
      "cell_type": "code",
      "metadata": {
        "id": "Gk1Mfo9XxwwV"
      },
      "source": [
        ""
      ],
      "execution_count": null,
      "outputs": []
    }
  ]
}