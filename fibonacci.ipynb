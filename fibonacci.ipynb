{
  "nbformat": 4,
  "nbformat_minor": 0,
  "metadata": {
    "colab": {
      "name": "fibonacci.ipynb",
      "provenance": [],
      "authorship_tag": "ABX9TyMR/V7u/V7sRdwp4xiU9EwJ",
      "include_colab_link": true
    },
    "kernelspec": {
      "name": "python3",
      "display_name": "Python 3"
    },
    "language_info": {
      "name": "python"
    }
  },
  "cells": [
    {
      "cell_type": "markdown",
      "metadata": {
        "id": "view-in-github",
        "colab_type": "text"
      },
      "source": [
        "<a href=\"https://colab.research.google.com/github/a-forty-two/DFEData2/blob/main/fibonacci.ipynb\" target=\"_parent\"><img src=\"https://colab.research.google.com/assets/colab-badge.svg\" alt=\"Open In Colab\"/></a>"
      ]
    },
    {
      "cell_type": "code",
      "metadata": {
        "id": "fuH98QmOwOjm"
      },
      "source": [
        "# 0,1,1,2,3,5,8,13,21.....\n",
        "# -1, 1-> 0\n",
        "# 1, 0-> 1\n",
        "# 0, 1-> 1\n",
        "# 1, 1-> 2\n",
        "# 2, 1-> 3....\n",
        "# 0,1-> next number is sum of the previous numbers\n",
        "# Nature-> shells, human body/animals, bee-population\n",
        "\n",
        "# Any series-> AP, GM, HP.... \n",
        "# Natural Number-> 1,2,3,4... inf\n",
        "# Whole -> 0,1,2,3.... inf\n",
        "# series-> base +- some factor \n",
        "# 2,4,6,8,?\n",
        "# 2,4,8,16,? GM-> */"
      ],
      "execution_count": 1,
      "outputs": []
    },
    {
      "cell_type": "code",
      "metadata": {
        "id": "HxfSSBq1wfdm"
      },
      "source": [
        "class Fibonacci:\n",
        "  # __iter__ -> initialize series\n",
        "  # __next__ -> calculate next value in series\n",
        "  def __iter__(this): \n",
        "    this.first = -1\n",
        "    this.second = 1\n",
        "    return this\n",
        "  def __next__(this):\n",
        "    this.sum = this.first + this.second # 0\n",
        "    this.first = this.second # from -1, -> 1\n",
        "    this.second = this.sum # from 1-> 0\n",
        "    return this.sum\n",
        "\n",
        "\n",
        "\n"
      ],
      "execution_count": 2,
      "outputs": []
    },
    {
      "cell_type": "code",
      "metadata": {
        "id": "mM9rSka1xYkg"
      },
      "source": [
        "myseries = Fibonacci()\n",
        "series_pointer = iter(myseries)\n"
      ],
      "execution_count": 3,
      "outputs": []
    },
    {
      "cell_type": "code",
      "metadata": {
        "colab": {
          "base_uri": "https://localhost:8080/"
        },
        "id": "Dssr7E1fxldg",
        "outputId": "d2214a9a-8243-48b8-d190-75db804b4f88"
      },
      "source": [
        "next(series_pointer)"
      ],
      "execution_count": 5,
      "outputs": [
        {
          "output_type": "execute_result",
          "data": {
            "text/plain": [
              "0"
            ]
          },
          "metadata": {},
          "execution_count": 5
        }
      ]
    },
    {
      "cell_type": "code",
      "metadata": {
        "colab": {
          "base_uri": "https://localhost:8080/"
        },
        "id": "llyXnVunxnXR",
        "outputId": "47878682-8704-4920-bfbd-07c2dc49ed8d"
      },
      "source": [
        "myseries = Fibonacci()\n",
        "series_pointer = iter(myseries)\n",
        "for i in range(30):\n",
        "  print(next(series_pointer))"
      ],
      "execution_count": 6,
      "outputs": [
        {
          "output_type": "stream",
          "name": "stdout",
          "text": [
            "0\n",
            "1\n",
            "1\n",
            "2\n",
            "3\n",
            "5\n",
            "8\n",
            "13\n",
            "21\n",
            "34\n",
            "55\n",
            "89\n",
            "144\n",
            "233\n",
            "377\n",
            "610\n",
            "987\n",
            "1597\n",
            "2584\n",
            "4181\n",
            "6765\n",
            "10946\n",
            "17711\n",
            "28657\n",
            "46368\n",
            "75025\n",
            "121393\n",
            "196418\n",
            "317811\n",
            "514229\n"
          ]
        }
      ]
    },
    {
      "cell_type": "code",
      "metadata": {
        "colab": {
          "base_uri": "https://localhost:8080/"
        },
        "id": "bi1Itj-JxyPD",
        "outputId": "0a0a9c86-c04a-48d2-a510-54009c0d1a5f"
      },
      "source": [
        "# Snail -> speed of 8m/day\n",
        "# total distance to cover is 16 meters\n",
        "# Every day-> Snail's speed reduces by half\n",
        "# in how many days will the snail reach the destination?\n",
        "\n",
        "# Incomplete Problems -> mathematic -> Sum of Infinite Series\n",
        "  # Approximates-> we will be able to move on with calculations!\n",
        "\n",
        "# TRUE->on, FALSE->off\n",
        "# X Y        AND(&&). OR(||). XOR\n",
        "# On On       On.     On.      Off\n",
        "# On Off.     Off.    On       On\n",
        "# Off On.     Off.    On       On\n",
        "# Off Off.    Off.    Off      Off\n",
        "# vector-> a^b^c != (a^b)^c != a^(b^c)\n",
        "\n",
        "a = 42\n",
        "b = 20\n",
        "a = a ^ b #gets bits that are off in both numbers!\n",
        "b = a ^ b #remove the off bits from the new_a number-> opposite number!\n",
        "a = a ^ b # remove the new off bits from new_a number-> opposite number!\n",
        "\n",
        "# 2,3\n",
        "# 2-> 0010=a\n",
        "# 3-> 0011=b\n",
        "# a = a^b= 0001\n",
        "# b = a^b = 0001 ^ 0011 => 0010\n",
        "# a = a^b = 0001 ^ 0010 => 0011\n",
        "print(a)\n",
        "print(b)"
      ],
      "execution_count": 15,
      "outputs": [
        {
          "output_type": "stream",
          "name": "stdout",
          "text": [
            "20\n",
            "42\n"
          ]
        }
      ]
    },
    {
      "cell_type": "code",
      "metadata": {
        "id": "thgN-gSmz78D"
      },
      "source": [
        "class randomseries:\n",
        "  def __iter__(self):\n",
        "    self.num = 0.5\n",
        "    return self\n",
        "  def __next__(self):\n",
        "    self.num = self.num * 2\n",
        "    return self.num\n",
        "\n"
      ],
      "execution_count": 16,
      "outputs": []
    },
    {
      "cell_type": "code",
      "metadata": {
        "colab": {
          "base_uri": "https://localhost:8080/"
        },
        "id": "RQ7T7p3m0Q-5",
        "outputId": "f9ddb053-a95c-403a-e920-18f023c68346"
      },
      "source": [
        "obj = randomseries()\n",
        "itr = iter(obj)\n",
        "for n in range(5):\n",
        "  print(int(next(itr)))"
      ],
      "execution_count": 18,
      "outputs": [
        {
          "output_type": "stream",
          "name": "stdout",
          "text": [
            "1\n",
            "2\n",
            "4\n",
            "8\n",
            "16\n"
          ]
        }
      ]
    },
    {
      "cell_type": "code",
      "metadata": {
        "id": "SaCK_3Ad0umL"
      },
      "source": [
        "# y = 2x + 3\n",
        "# x=0, 3\n",
        "# x=1,\n",
        "# x=2.,,\n",
        "# 3, 9\n",
        "# function of prev value"
      ],
      "execution_count": 19,
      "outputs": []
    },
    {
      "cell_type": "code",
      "metadata": {
        "id": "B6tqMUlx3HGn"
      },
      "source": [
        "class banana:\n",
        "  def __iter__(self):\n",
        "    self.x = -1\n",
        "    return self\n",
        "  def __next__(self):\n",
        "    self.x = self.x + 1\n",
        "    self.y = 2 * self.x + 3\n",
        "    return self.y\n"
      ],
      "execution_count": 11,
      "outputs": []
    },
    {
      "cell_type": "code",
      "metadata": {
        "colab": {
          "base_uri": "https://localhost:8080/"
        },
        "id": "jKdh2nP535gy",
        "outputId": "50c23f94-bb00-4fb0-c507-6aca2c36e82a"
      },
      "source": [
        "a = banana()\n",
        "b = iter(a)\n",
        "for i in range(10):\n",
        "  print(next(b))"
      ],
      "execution_count": 12,
      "outputs": [
        {
          "output_type": "stream",
          "name": "stdout",
          "text": [
            "3\n",
            "5\n",
            "7\n",
            "9\n",
            "11\n",
            "13\n",
            "15\n",
            "17\n",
            "19\n",
            "21\n"
          ]
        }
      ]
    },
    {
      "cell_type": "code",
      "metadata": {
        "id": "kNY28mZ94ElF"
      },
      "source": [
        "class blahblah:\n",
        "  def __iter__(this):\n",
        "    this.a = 1\n",
        "    this.b = 2\n",
        "    return this\n",
        "  def __next__(this):\n",
        "    this.c = this.a * this.b \n",
        "    this.a = this.a + 1\n",
        "    this.b = this.b * 2\n",
        "    return this.c\n",
        "    # __init__ -> constructor "
      ],
      "execution_count": null,
      "outputs": []
    }
  ]
}