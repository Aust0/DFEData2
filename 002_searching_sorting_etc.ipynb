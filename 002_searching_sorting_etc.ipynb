{
  "nbformat": 4,
  "nbformat_minor": 0,
  "metadata": {
    "colab": {
      "name": "002 searching sorting etc.ipynb",
      "provenance": [],
      "collapsed_sections": [],
      "authorship_tag": "ABX9TyOLcsy+4EbZPov0Os0nDHwe",
      "include_colab_link": true
    },
    "kernelspec": {
      "name": "python3",
      "display_name": "Python 3"
    },
    "language_info": {
      "name": "python"
    }
  },
  "cells": [
    {
      "cell_type": "markdown",
      "metadata": {
        "id": "view-in-github",
        "colab_type": "text"
      },
      "source": [
        "<a href=\"https://colab.research.google.com/github/a-forty-two/DFEData2/blob/main/002_searching_sorting_etc.ipynb\" target=\"_parent\"><img src=\"https://colab.research.google.com/assets/colab-badge.svg\" alt=\"Open In Colab\"/></a>"
      ]
    },
    {
      "cell_type": "code",
      "metadata": {
        "id": "YnOr5_jJH_Ks"
      },
      "source": [
        "# Linear Search\n",
        "# Where you apply the most obvious (but most likely the least-optimized) way of doing things\n",
        "# Looking at items one by one\n",
        "# Brute Force Approach \n",
        "\n",
        "# Yesterday-> calculating prime numbers\n",
        "# brute force-> loop from 1 to n\n",
        "# optimization-> loop from 1 to n/2 \n",
        "\n",
        "# Brute Force, Divide and Conquer, Greedy, Incomplete "
      ],
      "execution_count": 1,
      "outputs": []
    },
    {
      "cell_type": "code",
      "metadata": {
        "id": "RdX0dCdgJOhi"
      },
      "source": [
        "# Algorithm's complexity/ Cost \n",
        "# 2 factors: Time (how much time does it take?), Memory (how much space?)\n",
        "\n",
        "# Linear Search-> counting elements one-by-one (Brute Force)\n",
        "# Binary Search-> break the dataset into 2 smaller datasets and search (divide-and-conquer)\n"
      ],
      "execution_count": 2,
      "outputs": []
    },
    {
      "cell_type": "code",
      "metadata": {
        "colab": {
          "base_uri": "https://localhost:8080/"
        },
        "id": "IlhqdY00Jx4k",
        "outputId": "5f0e0b10-0bf4-44b4-a6c1-314a6107a9c7"
      },
      "source": [
        "# generate random numbers\n",
        "# begin with empty list\n",
        "import random\n",
        "data = []\n",
        "# generate 100 numbers and insert them into the list\n",
        "for i in range(100):\n",
        "  rn = random.randint(1,100) # generated random numbers between 1 to 100\n",
        "  data.append(rn)\n",
        "  # data.append(random.randint(1,100)) # does the same thing in 1 line\n",
        "\n",
        "print(data)"
      ],
      "execution_count": 15,
      "outputs": [
        {
          "output_type": "stream",
          "name": "stdout",
          "text": [
            "[76, 14, 44, 27, 78, 24, 62, 2, 36, 94, 38, 63, 17, 38, 75, 18, 44, 93, 19, 29, 35, 62, 50, 99, 76, 43, 20, 49, 15, 2, 69, 27, 88, 33, 2, 45, 30, 4, 53, 83, 63, 78, 98, 40, 59, 14, 41, 55, 33, 80, 83, 3, 61, 35, 36, 51, 84, 64, 15, 86, 9, 62, 81, 24, 61, 86, 48, 45, 32, 22, 99, 79, 99, 89, 55, 10, 100, 4, 98, 71, 27, 3, 38, 20, 82, 92, 35, 21, 29, 39, 32, 94, 78, 91, 95, 60, 55, 100, 42, 7]\n"
          ]
        }
      ]
    },
    {
      "cell_type": "code",
      "metadata": {
        "id": "--NOU-hsRZVA"
      },
      "source": [
        "### Original \n",
        "\n",
        "\n",
        "element = int(input(\"Enter an element to search ... \"))\n",
        "elementFound = False\n",
        "for i in data:\n",
        "  if(i == element):\n",
        "    elementFound = True\n",
        "    break\n",
        "\n",
        "if(elementFound):\n",
        "  print('Element Found')\n",
        "else:\n",
        "  print('Element not found')\n",
        "\n"
      ],
      "execution_count": null,
      "outputs": []
    },
    {
      "cell_type": "code",
      "metadata": {
        "colab": {
          "base_uri": "https://localhost:8080/"
        },
        "id": "QB2vJJucLje9",
        "outputId": "aee6a405-2d27-4c27-8166-29128a4a70d4"
      },
      "source": [
        "# problem statement: modify this program to also print how much TIME does it\n",
        "# take to execute the search \n",
        "\n",
        "element = int(input(\"Enter an element to search ... \"))\n",
        "import time\n",
        "begintime = time.time()\n",
        "elementFound = False  \n",
        "for i in data:\n",
        "  if(i == element):\n",
        "    elementFound = True\n",
        "    break\n",
        "\n",
        "# Total time of algorithm -> entire process\n",
        "# Optimizing my algo-> calculation-> starting from house \n",
        "\n",
        "\n",
        "endtime= time.time()\n",
        "print('Time Taken='+ str( (endtime-begintime)*1000 ) + \" seconds\")\n",
        "if(elementFound):\n",
        "  print('Element Found')\n",
        "else:\n",
        "  print('Element not found')\n",
        "\n"
      ],
      "execution_count": 14,
      "outputs": [
        {
          "output_type": "stream",
          "name": "stdout",
          "text": [
            "Enter an element to search ... 42\n",
            "Time Taken=0.08893013000488281 seconds\n",
            "Element Found\n"
          ]
        }
      ]
    },
    {
      "cell_type": "code",
      "metadata": {
        "id": "YHHIkvhWNJ9H"
      },
      "source": [
        ""
      ],
      "execution_count": 12,
      "outputs": []
    },
    {
      "cell_type": "code",
      "metadata": {
        "colab": {
          "base_uri": "https://localhost:8080/"
        },
        "id": "HiYC-XP8NS4p",
        "outputId": "d2bcdd7e-1b8d-4c86-f99a-25fc53e041e7"
      },
      "source": [
        "# problem statement: modify this program to also print the location of element found!\n",
        "# problem statement: modify this program to also print how much TIME does it\n",
        "# take to execute the search \n",
        "\n",
        "element = int(input(\"Enter an element to search ... \"))\n",
        "import time\n",
        "begintime = time.time()\n",
        "elementFound = False  \n",
        "totalelements = len(data) # calculating total elements in data [which is 100]\n",
        "element_index_list = range(totalelements) # creating a list that looks like [0,1,2,3.... 99] if data has 100 elements\n",
        "\n",
        "for i in element_index_list: # better implementation: for i in range(len(data)): \n",
        "  if(data[i] == element):\n",
        "    elementFound = True\n",
        "    print('Element Found at location number ' + str(i+1))\n",
        "    break\n",
        "\n",
        "# Total time of algorithm -> entire process\n",
        "# Optimizing my algo-> calculation-> starting from house \n",
        "endtime= time.time()\n",
        "print('Time Taken='+ str( (endtime-begintime)*1000 ) + \" seconds\")\n",
        "if(not elementFound):\n",
        "  print('Element not found')\n",
        "\n"
      ],
      "execution_count": 17,
      "outputs": [
        {
          "output_type": "stream",
          "name": "stdout",
          "text": [
            "Enter an element to search ... 30\n",
            "Element Found at location number 37\n",
            "Time Taken=0.7808208465576172 seconds\n"
          ]
        }
      ]
    },
    {
      "cell_type": "code",
      "metadata": {
        "id": "6g72HlIWaZLS"
      },
      "source": [
        "# x= 4,5,67,8\n",
        "# 67-> element to find\n",
        "# len(x)-> 4 elements \n",
        "# for i in range(4): ---->   for i in [0,1,2,3]\n",
        "\n",
        "# x[0],x[1],x[2],x[3]-> we could then use i like this-> x[i]"
      ],
      "execution_count": null,
      "outputs": []
    },
    {
      "cell_type": "code",
      "metadata": {
        "colab": {
          "base_uri": "https://localhost:8080/"
        },
        "id": "g_oyTKJ5iThS",
        "outputId": "65775bca-96da-45b4-846f-3dd1fc1b216b"
      },
      "source": [
        "# generate random numbers\n",
        "# begin with empty list\n",
        "import random\n",
        "data = []\n",
        "# generate 100 numbers and insert them into the list\n",
        "for i in range(100):\n",
        "  rn = random.randint(1,100) # generated random numbers between 1 to 100\n",
        "  data.append(rn)\n",
        "  # data.append(random.randint(1,100)) # does the same thing in 1 line\n",
        "\n",
        "print(data)"
      ],
      "execution_count": 18,
      "outputs": [
        {
          "output_type": "stream",
          "name": "stdout",
          "text": [
            "[10, 80, 30, 11, 28, 34, 29, 82, 28, 57, 86, 34, 70, 53, 5, 77, 48, 51, 12, 17, 76, 41, 5, 88, 24, 81, 82, 41, 88, 67, 57, 49, 6, 17, 82, 86, 87, 33, 51, 84, 33, 72, 5, 12, 21, 95, 38, 32, 50, 25, 74, 11, 63, 28, 17, 42, 100, 39, 87, 16, 75, 65, 91, 96, 37, 91, 72, 8, 57, 51, 60, 83, 89, 28, 10, 50, 13, 20, 24, 14, 54, 7, 27, 83, 40, 84, 36, 24, 100, 54, 98, 14, 5, 19, 10, 23, 62, 6, 56, 31]\n"
          ]
        }
      ]
    },
    {
      "cell_type": "code",
      "metadata": {
        "id": "MKoGlQl1iait"
      },
      "source": [
        "# largest number in data!\n",
        " \n",
        "\n",
        "\n"
      ],
      "execution_count": null,
      "outputs": []
    },
    {
      "cell_type": "code",
      "metadata": {
        "id": "WARFXnw1krJm"
      },
      "source": [
        "# data: 4 10 0 42 1\n",
        "# indx: 0 1  2  3 4\n",
        "# data[2] = ? = 0\n",
        "# data[0] = ? = 4\n",
        "\n",
        "# rl=0,1,2,3\n",
        "# for i in rl:\n",
        "#     print(data[i])\n",
        "\n"
      ],
      "execution_count": null,
      "outputs": []
    },
    {
      "cell_type": "code",
      "metadata": {
        "colab": {
          "base_uri": "https://localhost:8080/"
        },
        "id": "NPr178AelD7i",
        "outputId": "3afd35a2-efb9-4bfb-f4f3-4c185d1f4da6"
      },
      "source": [
        "data=[ 4 ,10, 0, 42, 1] # looping through values\n",
        "for i in data:\n",
        "  print(i, end=\" \")"
      ],
      "execution_count": 20,
      "outputs": [
        {
          "output_type": "stream",
          "name": "stdout",
          "text": [
            "4 10 0 42 1 "
          ]
        }
      ]
    },
    {
      "cell_type": "code",
      "metadata": {
        "colab": {
          "base_uri": "https://localhost:8080/"
        },
        "id": "4OmoFA8ClPT1",
        "outputId": "a0f043d9-ced3-4f06-e7bf-1fc19e4c7dac"
      },
      "source": [
        "data=[ 4 ,10, 0, 42, 1] # looping through index \n",
        "for i in range(len(data)):\n",
        "  print(data[i], end=\" \")"
      ],
      "execution_count": 24,
      "outputs": [
        {
          "output_type": "stream",
          "name": "stdout",
          "text": [
            "4 10 0 42 1 "
          ]
        }
      ]
    },
    {
      "cell_type": "code",
      "metadata": {
        "id": "rah7g_HGlbMi"
      },
      "source": [
        ""
      ],
      "execution_count": null,
      "outputs": []
    }
  ]
}